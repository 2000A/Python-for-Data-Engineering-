{
 "cells": [
  {
   "cell_type": "markdown",
   "id": "e82bcf21-2def-48ef-b0aa-3d5a8c6887e8",
   "metadata": {},
   "source": [
    "# Working with different file formats"
   ]
  },
  {
   "cell_type": "markdown",
   "id": "2f68ca53-b310-4c0f-aee2-40b5f9cf3bd7",
   "metadata": {},
   "source": [
    "As a data person you will deal with various type of data and it's imprtant to learn\n",
    "how to handle these file formats."
   ]
  },
  {
   "cell_type": "markdown",
   "id": "9bb95aa8-9a27-4b82-913d-76ed7bdd717c",
   "metadata": {},
   "source": [
    "# Working in JSON files\n",
    "\n",
    "Javascript object notation(JSON) it has became most widely used to interchange information\n",
    "across internet.\n",
    "\n",
    "### how JSON format looks like\n"
   ]
  },
  {
   "cell_type": "raw",
   "id": "022f5a14-cf31-4143-a443-62bf2ecbeb47",
   "metadata": {},
   "source": [
    "{\n",
    "    \"firstName\": \"Jane\",\n",
    "    \"lastName\": \"Doe\",\n",
    "    \"hobbies\": [\"running\",\"sky diving\",\"singin\"],\n",
    "    \"age\": 35,\n",
    "    \"children\": [\n",
    "        {\n",
    "            \"firstName\": \"Alice\",\n",
    "            \"age\" : 6\n",
    "        },\n",
    "        {\n",
    "            \"firstName\": \"Bob\",\n",
    "            \"age\" : 8\n",
    "        }\n",
    "    }\n",
    "}"
   ]
  },
  {
   "cell_type": "markdown",
   "id": "01a3152e-5a23-40a9-b14c-f1ca3932985c",
   "metadata": {},
   "source": [
    "## Writing JSON files"
   ]
  },
  {
   "cell_type": "code",
   "execution_count": 1,
   "id": "676f9801-d4ec-4b42-b63e-22efc0a8d9a2",
   "metadata": {},
   "outputs": [],
   "source": [
    "import json"
   ]
  },
  {
   "cell_type": "code",
   "execution_count": 2,
   "id": "e7de583f-8f22-4c97-acef-deeec68272b5",
   "metadata": {},
   "outputs": [],
   "source": [
    "data = {\n",
    "    \"president\": {\n",
    "        \"name\" : \"Zaphod Beedlebrox\",\n",
    "        \"species\": \"Betelgeusian\"\n",
    "    }\n",
    "}"
   ]
  },
  {
   "cell_type": "code",
   "execution_count": 3,
   "id": "e94c631b-3033-424c-90e5-2a37d23ebc7c",
   "metadata": {},
   "outputs": [],
   "source": [
    "with open(\"data_file.json\", \"w\") as write_file:\n",
    "    json.dump(data, write_file)"
   ]
  },
  {
   "cell_type": "markdown",
   "id": "8ccc5ee8-d27f-4785-8d97-9bde0db62fea",
   "metadata": {},
   "source": [
    "Note that dump() takes two positional arguments:\n",
    "    1. the data object to be in correct format(i.e, in json or dictionary), and \n",
    "    2. the file-like object to which the bytes will be written."
   ]
  },
  {
   "cell_type": "markdown",
   "id": "b006df6b-21ab-4be6-a33e-300674208f76",
   "metadata": {},
   "source": [
    "## Reading JSON files"
   ]
  },
  {
   "cell_type": "code",
   "execution_count": 4,
   "id": "9bd0d3c3-f753-48b3-973c-6a604c223d79",
   "metadata": {},
   "outputs": [],
   "source": [
    "with open(\"data_file.json\", \"r\") as read_file:\n",
    "    data = json.load(read_file)"
   ]
  },
  {
   "cell_type": "code",
   "execution_count": 5,
   "id": "81cf337d-1162-4bc9-924d-df571e924afd",
   "metadata": {},
   "outputs": [
    {
     "data": {
      "text/plain": [
       "dict"
      ]
     },
     "execution_count": 5,
     "metadata": {},
     "output_type": "execute_result"
    }
   ],
   "source": [
    "type(data)"
   ]
  },
  {
   "cell_type": "code",
   "execution_count": 6,
   "id": "ceda16af-62a2-4981-9d48-e668af6ea1e6",
   "metadata": {},
   "outputs": [
    {
     "data": {
      "text/plain": [
       "{'president': {'name': 'Zaphod Beedlebrox', 'species': 'Betelgeusian'}}"
      ]
     },
     "execution_count": 6,
     "metadata": {},
     "output_type": "execute_result"
    }
   ],
   "source": [
    "data"
   ]
  },
  {
   "cell_type": "markdown",
   "id": "e3f82a0a-b78a-4464-a320-0560f8dfbad3",
   "metadata": {},
   "source": [
    "## Reading JSON as DataFrame in Pandas"
   ]
  },
  {
   "cell_type": "code",
   "execution_count": 7,
   "id": "8d2eb62e-6f9b-4b56-a333-5ef0af06f418",
   "metadata": {},
   "outputs": [
    {
     "name": "stdout",
     "output_type": "stream",
     "text": [
      "       Courses  Discount\n",
      "Index0  Pandas      1200\n",
      "Index1  Hadoop      1400\n",
      "Index2   Spark      1900\n"
     ]
    }
   ],
   "source": [
    "import pandas as pd\n",
    "from io import StringIO\n",
    "jsonStr = '''{\"Index0\":{\"Courses\": \"Pandas\",\"Discount\": \"1200\"},\n",
    "              \"Index1\":{\"Courses\": \"Hadoop\",\"Discount\":\"1400\"},\n",
    "              \"Index2\":{\"Courses\": \"Spark\",\"Discount\":\"1900\"}\n",
    "              }'''\n",
    "#convert JSON to DataFrame Using read_json()\n",
    "df2 = pd.read_json(StringIO(jsonStr),orient = 'index')\n",
    "print(df2)"
   ]
  },
  {
   "cell_type": "raw",
   "id": "a64a7862-3f3d-4b5f-bb0d-e110d3f8f6ca",
   "metadata": {},
   "source": [
    "learned about : \n",
    "1. triple single quotes:\n",
    "    Triple quotes (''' or \"\"\") allow multi-line string definitions.\n",
    "\n",
    "    They're often used to make embedded JSON, HTML, or long strings more readable.\n",
    "\n",
    "    The use of double quotes inside avoids any conflict with the outer triple single quotes.\n",
    "\n",
    "2. StringIO :\n",
    "   pd.read_json() can take file paths, URLs, or file-like objects.\n",
    "\n",
    "   Passing a plain string is ambiguous: pandas can't tell if it's a filename or actual JSON.\n",
    "\n",
    "   By using StringIO, you make it explicit: “This is a string behaving like a file.”\n",
    "\n",
    "3. read_json():\n",
    "  pd.read_json() reads JSON-formatted data and converts it into a pandas DataFrame,\n",
    "  which is a table-like data structure used for data analysis.\n",
    "\n",
    "4. and orient = index argument in read_json():\n",
    "\n",
    "     tells pandas that how we want our rows and columns to look like in dataframe view\n",
    "\n",
    "   \"Each top-level key in the JSON is a row label (index), and its value is a dictionary    representing the columns.\"\n",
    "\n",
    "         Courses  Discount\n",
    "Index0  Pandas      1200\n",
    "Index1  Hadoop      1400\n",
    "Index2   Spark      1900\n",
    "\n",
    "•The outer keys (Index0, Index1, Index2) become the index (row labels).\n",
    "\n",
    "•The inner keys (Courses, Discount) become the columns.\n",
    "   "
   ]
  },
  {
   "cell_type": "markdown",
   "id": "181a7860-0522-4e4e-97bd-23c5f94f246a",
   "metadata": {},
   "source": [
    "### convert Dict to DF"
   ]
  },
  {
   "cell_type": "code",
   "execution_count": 8,
   "id": "de06f266-329a-44a9-bac4-ba6d2fc247e5",
   "metadata": {},
   "outputs": [],
   "source": [
    "import pandas as df\n",
    "\n",
    "df3 = pd.DataFrame.from_dict(data, orient = 'columns')"
   ]
  },
  {
   "cell_type": "code",
   "execution_count": 9,
   "id": "684d2ec8-9450-4a8d-b580-f8421e81b73f",
   "metadata": {},
   "outputs": [
    {
     "data": {
      "text/html": [
       "<div>\n",
       "<style scoped>\n",
       "    .dataframe tbody tr th:only-of-type {\n",
       "        vertical-align: middle;\n",
       "    }\n",
       "\n",
       "    .dataframe tbody tr th {\n",
       "        vertical-align: top;\n",
       "    }\n",
       "\n",
       "    .dataframe thead th {\n",
       "        text-align: right;\n",
       "    }\n",
       "</style>\n",
       "<table border=\"1\" class=\"dataframe\">\n",
       "  <thead>\n",
       "    <tr style=\"text-align: right;\">\n",
       "      <th></th>\n",
       "      <th>president</th>\n",
       "    </tr>\n",
       "  </thead>\n",
       "  <tbody>\n",
       "    <tr>\n",
       "      <th>name</th>\n",
       "      <td>Zaphod Beedlebrox</td>\n",
       "    </tr>\n",
       "    <tr>\n",
       "      <th>species</th>\n",
       "      <td>Betelgeusian</td>\n",
       "    </tr>\n",
       "  </tbody>\n",
       "</table>\n",
       "</div>"
      ],
      "text/plain": [
       "                 president\n",
       "name     Zaphod Beedlebrox\n",
       "species       Betelgeusian"
      ]
     },
     "execution_count": 9,
     "metadata": {},
     "output_type": "execute_result"
    }
   ],
   "source": [
    "df3"
   ]
  },
  {
   "cell_type": "markdown",
   "id": "d52b9a3d-5ec7-4d59-87b3-6bf9b5cf7f2a",
   "metadata": {},
   "source": [
    "## Working with CSV files\n",
    "\n",
    "Comma Separated Values file is a type of plain text file that uses specific struturing to arragnge tabular data."
   ]
  },
  {
   "cell_type": "code",
   "execution_count": 10,
   "id": "c8315892-a6ea-4891-9152-fe855a369228",
   "metadata": {},
   "outputs": [],
   "source": [
    "df = pd.read_csv('hrdata.csv',index_col = 'Name')"
   ]
  },
  {
   "cell_type": "code",
   "execution_count": 11,
   "id": "aa48d687-4350-4125-b72f-8849cdf8a830",
   "metadata": {},
   "outputs": [
    {
     "data": {
      "text/html": [
       "<div>\n",
       "<style scoped>\n",
       "    .dataframe tbody tr th:only-of-type {\n",
       "        vertical-align: middle;\n",
       "    }\n",
       "\n",
       "    .dataframe tbody tr th {\n",
       "        vertical-align: top;\n",
       "    }\n",
       "\n",
       "    .dataframe thead th {\n",
       "        text-align: right;\n",
       "    }\n",
       "</style>\n",
       "<table border=\"1\" class=\"dataframe\">\n",
       "  <thead>\n",
       "    <tr style=\"text-align: right;\">\n",
       "      <th></th>\n",
       "      <th>Hire Date</th>\n",
       "      <th>Salary</th>\n",
       "      <th>Sick Days remaining</th>\n",
       "    </tr>\n",
       "    <tr>\n",
       "      <th>Name</th>\n",
       "      <th></th>\n",
       "      <th></th>\n",
       "      <th></th>\n",
       "    </tr>\n",
       "  </thead>\n",
       "  <tbody>\n",
       "    <tr>\n",
       "      <th>Graham Chapman</th>\n",
       "      <td>03/15/14</td>\n",
       "      <td>50000.0</td>\n",
       "      <td>10</td>\n",
       "    </tr>\n",
       "    <tr>\n",
       "      <th>John Cleese</th>\n",
       "      <td>06/01/15</td>\n",
       "      <td>65000.0</td>\n",
       "      <td>8</td>\n",
       "    </tr>\n",
       "    <tr>\n",
       "      <th>Eric Idle</th>\n",
       "      <td>05/12/14</td>\n",
       "      <td>45000.0</td>\n",
       "      <td>10</td>\n",
       "    </tr>\n",
       "    <tr>\n",
       "      <th>Terry Jones</th>\n",
       "      <td>11/01/13</td>\n",
       "      <td>70000.0</td>\n",
       "      <td>3</td>\n",
       "    </tr>\n",
       "    <tr>\n",
       "      <th>Terry Gilliam</th>\n",
       "      <td>08/12/14</td>\n",
       "      <td>48000.0</td>\n",
       "      <td>7</td>\n",
       "    </tr>\n",
       "  </tbody>\n",
       "</table>\n",
       "</div>"
      ],
      "text/plain": [
       "               Hire Date   Salary  Sick Days remaining\n",
       "Name                                                  \n",
       "Graham Chapman  03/15/14  50000.0                   10\n",
       "John Cleese     06/01/15  65000.0                    8\n",
       "Eric Idle       05/12/14  45000.0                   10\n",
       "Terry Jones     11/01/13  70000.0                    3\n",
       "Terry Gilliam   08/12/14  48000.0                    7"
      ]
     },
     "execution_count": 11,
     "metadata": {},
     "output_type": "execute_result"
    }
   ],
   "source": [
    "df.head()"
   ]
  },
  {
   "cell_type": "code",
   "execution_count": 12,
   "id": "fbf7d389-5d1c-48de-a089-b90ec2191b34",
   "metadata": {},
   "outputs": [
    {
     "name": "stderr",
     "output_type": "stream",
     "text": [
      "C:\\Users\\ramab\\AppData\\Local\\Temp\\ipykernel_17176\\1450036980.py:5: FutureWarning: The argument 'date_parser' is deprecated and will be removed in a future version. Please use 'date_format' instead, or read your data in as 'object' dtype and then call 'to_datetime'.\n",
      "  df= pd.read_csv('hrdata.csv',index_col = 'Name', parse_dates = ['Hire Date'], date_parser = dateparse)\n"
     ]
    },
    {
     "data": {
      "text/html": [
       "<div>\n",
       "<style scoped>\n",
       "    .dataframe tbody tr th:only-of-type {\n",
       "        vertical-align: middle;\n",
       "    }\n",
       "\n",
       "    .dataframe tbody tr th {\n",
       "        vertical-align: top;\n",
       "    }\n",
       "\n",
       "    .dataframe thead th {\n",
       "        text-align: right;\n",
       "    }\n",
       "</style>\n",
       "<table border=\"1\" class=\"dataframe\">\n",
       "  <thead>\n",
       "    <tr style=\"text-align: right;\">\n",
       "      <th></th>\n",
       "      <th>Hire Date</th>\n",
       "      <th>Salary</th>\n",
       "      <th>Sick Days remaining</th>\n",
       "    </tr>\n",
       "    <tr>\n",
       "      <th>Name</th>\n",
       "      <th></th>\n",
       "      <th></th>\n",
       "      <th></th>\n",
       "    </tr>\n",
       "  </thead>\n",
       "  <tbody>\n",
       "    <tr>\n",
       "      <th>Graham Chapman</th>\n",
       "      <td>2014-03-15</td>\n",
       "      <td>50000.0</td>\n",
       "      <td>10</td>\n",
       "    </tr>\n",
       "    <tr>\n",
       "      <th>John Cleese</th>\n",
       "      <td>2015-06-01</td>\n",
       "      <td>65000.0</td>\n",
       "      <td>8</td>\n",
       "    </tr>\n",
       "    <tr>\n",
       "      <th>Eric Idle</th>\n",
       "      <td>2014-05-12</td>\n",
       "      <td>45000.0</td>\n",
       "      <td>10</td>\n",
       "    </tr>\n",
       "    <tr>\n",
       "      <th>Terry Jones</th>\n",
       "      <td>2013-11-01</td>\n",
       "      <td>70000.0</td>\n",
       "      <td>3</td>\n",
       "    </tr>\n",
       "    <tr>\n",
       "      <th>Terry Gilliam</th>\n",
       "      <td>2014-08-12</td>\n",
       "      <td>48000.0</td>\n",
       "      <td>7</td>\n",
       "    </tr>\n",
       "    <tr>\n",
       "      <th>Michael Palin</th>\n",
       "      <td>2013-05-23</td>\n",
       "      <td>66000.0</td>\n",
       "      <td>8</td>\n",
       "    </tr>\n",
       "  </tbody>\n",
       "</table>\n",
       "</div>"
      ],
      "text/plain": [
       "                Hire Date   Salary  Sick Days remaining\n",
       "Name                                                   \n",
       "Graham Chapman 2014-03-15  50000.0                   10\n",
       "John Cleese    2015-06-01  65000.0                    8\n",
       "Eric Idle      2014-05-12  45000.0                   10\n",
       "Terry Jones    2013-11-01  70000.0                    3\n",
       "Terry Gilliam  2014-08-12  48000.0                    7\n",
       "Michael Palin  2013-05-23  66000.0                    8"
      ]
     },
     "execution_count": 12,
     "metadata": {},
     "output_type": "execute_result"
    }
   ],
   "source": [
    "from datetime import datetime\n",
    "\n",
    "dateparse = lambda x : datetime.strptime(x, '%m/%d/%y')\n",
    "\n",
    "df= pd.read_csv('hrdata.csv',index_col = 'Name', parse_dates = ['Hire Date'], date_parser = dateparse)\n",
    "df"
   ]
  },
  {
   "cell_type": "raw",
   "id": "b90a81b9-86a4-4f11-9ee5-117e715353ef",
   "metadata": {},
   "source": [
    "datetime.strptime(x, '%m/%d/%Y')\n",
    "This comes from Python's built-in datetime module.\n",
    "\n",
    "   strptime stands for “string parse time”.\n",
    "\n",
    "   It converts a string into a datetime object, based on the format you provide.\n",
    "\n",
    "\n",
    "date_parser = So this take a method made by me and it will apply that function while parsing in respective datetime format that i have sepecified"
   ]
  },
  {
   "cell_type": "markdown",
   "id": "6510d31c-2d61-47e8-b1a3-ebe7ccf94383",
   "metadata": {},
   "source": [
    "## Working with Excel Files\n",
    "To work with Excel files wwe have package in python openpyxl"
   ]
  },
  {
   "cell_type": "code",
   "execution_count": 13,
   "id": "669cddaf-cd1b-4f22-973d-6d5599df08f8",
   "metadata": {},
   "outputs": [
    {
     "name": "stdout",
     "output_type": "stream",
     "text": [
      "Requirement already satisfied: openpyxl in c:\\users\\ramab\\onedrive\\desktop\\jbooks\\venv\\lib\\site-packages (3.1.5)\n",
      "Requirement already satisfied: et-xmlfile in c:\\users\\ramab\\onedrive\\desktop\\jbooks\\venv\\lib\\site-packages (from openpyxl) (2.0.0)\n",
      "Note: you may need to restart the kernel to use updated packages.\n"
     ]
    },
    {
     "name": "stderr",
     "output_type": "stream",
     "text": [
      "\n",
      "[notice] A new release of pip is available: 25.0.1 -> 25.1.1\n",
      "[notice] To update, run: python.exe -m pip install --upgrade pip\n"
     ]
    }
   ],
   "source": [
    "pip install openpyxl"
   ]
  },
  {
   "cell_type": "code",
   "execution_count": 14,
   "id": "70c75acd-6e5e-4020-8431-97b730b114ac",
   "metadata": {},
   "outputs": [
    {
     "ename": "SyntaxError",
     "evalue": "invalid syntax (842801469.py, line 1)",
     "output_type": "error",
     "traceback": [
      "  \u001b[36mCell\u001b[39m\u001b[36m \u001b[39m\u001b[32mIn[14]\u001b[39m\u001b[32m, line 1\u001b[39m\n\u001b[31m    \u001b[39m\u001b[31mpython.exe -m pip install --upgrade pip\u001b[39m\n                  ^\n\u001b[31mSyntaxError\u001b[39m\u001b[31m:\u001b[39m invalid syntax\n"
     ]
    }
   ],
   "source": [
    "python.exe -m pip install --upgrade pip"
   ]
  },
  {
   "cell_type": "code",
   "execution_count": null,
   "id": "efd3a258-835a-41bd-9a0d-66431b9052f3",
   "metadata": {},
   "outputs": [],
   "source": [
    "from openpyxl import Workbook     # Workbook is class in openpyxl\n",
    "\n",
    "workbook = Workbook()             # creating instance of class Workbook()\n",
    "sheet = workbook.active           #active worksheet (usulally the first sheet) in the workbook\n",
    "\n",
    "sheet['A1'] = \"hello\"\n",
    "sheet['B1'] = \"World\"\n",
    "sheet['C1'] = \"Your Brand new data engineer has arrived\"\n",
    "\n",
    "workbook.save(filename = \"hello_world.xlsx\")"
   ]
  },
  {
   "cell_type": "code",
   "execution_count": null,
   "id": "84e93e31-c956-464f-9a37-a320c665bd95",
   "metadata": {},
   "outputs": [],
   "source": [
    "#Reading excel file\n",
    "\n",
    "from openpyxl import load_workbook          #load_workbook is used to open and read existing Excel .xlsx files.\n",
    "workbook = load_workbook(filename=\"sample-xlsx-file.xlsx\")\n",
    "workbook.sheetnames\n",
    "['Sheet 1']"
   ]
  },
  {
   "cell_type": "code",
   "execution_count": null,
   "id": "d44eeb5c-482a-464f-bc12-ee1829b4036e",
   "metadata": {},
   "outputs": [],
   "source": [
    "sheet = workbook.active"
   ]
  },
  {
   "cell_type": "code",
   "execution_count": null,
   "id": "b2dc9cea-98d0-4cab-bd0b-94ddb69f47f6",
   "metadata": {},
   "outputs": [],
   "source": [
    "sheet"
   ]
  },
  {
   "cell_type": "code",
   "execution_count": null,
   "id": "306aa86f-852a-4285-bba0-fbbf7c4b4c73",
   "metadata": {},
   "outputs": [],
   "source": [
    "sheet.title"
   ]
  },
  {
   "cell_type": "code",
   "execution_count": null,
   "id": "2aabdcd7-b4bf-478f-acc0-3729338d0e38",
   "metadata": {},
   "outputs": [],
   "source": [
    "sheet['A1']"
   ]
  },
  {
   "cell_type": "code",
   "execution_count": null,
   "id": "4e8ed492-a7a2-43e6-996c-2481272624eb",
   "metadata": {},
   "outputs": [],
   "source": [
    "sheet['A4'].value"
   ]
  },
  {
   "cell_type": "code",
   "execution_count": null,
   "id": "96de97fe-983d-43c3-aad2-7faef09d8b62",
   "metadata": {},
   "outputs": [],
   "source": [
    "sheet.cell(row=5,column=4)"
   ]
  },
  {
   "cell_type": "code",
   "execution_count": null,
   "id": "f1c93b0d-8dbe-4d4e-9799-229994ad7b0b",
   "metadata": {},
   "outputs": [],
   "source": [
    "sheet.cell(row=5,column=4).value"
   ]
  },
  {
   "cell_type": "code",
   "execution_count": null,
   "id": "6980f3a9-29bd-41c7-836a-173537132aae",
   "metadata": {},
   "outputs": [],
   "source": [
    "sheet.cell(row=3 , column=3 ).value"
   ]
  },
  {
   "cell_type": "code",
   "execution_count": null,
   "id": "006883de-fe97-4e68-a95a-c3cc8b4374a6",
   "metadata": {},
   "outputs": [],
   "source": [
    "sheet[\"A1:C2\"]"
   ]
  },
  {
   "cell_type": "code",
   "execution_count": null,
   "id": "f401b453-17b0-4654-9900-70247c723a2c",
   "metadata": {},
   "outputs": [],
   "source": [
    "for row in sheet:\n",
    "    print(row)"
   ]
  },
  {
   "cell_type": "code",
   "execution_count": null,
   "id": "be1a03d6-9915-43de-a45b-502a014d4df6",
   "metadata": {},
   "outputs": [],
   "source": [
    "for row in sheet.iter_rows(values_only=True):\n",
    "    print(row)"
   ]
  },
  {
   "cell_type": "markdown",
   "id": "62be7f86-7c0f-4417-9d52-363043ad3b4e",
   "metadata": {},
   "source": [
    "# Khatam tata bye bye \n",
    "\n",
    "# Read Excel file as DataFrame using Pandas"
   ]
  },
  {
   "cell_type": "code",
   "execution_count": null,
   "id": "d65003ba-079b-492a-9cb6-bb3a7f5f2c56",
   "metadata": {},
   "outputs": [],
   "source": [
    "import pandas as pd\n",
    "excel_df = pd.read_excel('sample-xlsx-file.xlsx')"
   ]
  },
  {
   "cell_type": "code",
   "execution_count": null,
   "id": "e5093a3b-f4ec-4898-8991-f46eb5cf1302",
   "metadata": {},
   "outputs": [],
   "source": [
    "excel_df"
   ]
  },
  {
   "cell_type": "code",
   "execution_count": null,
   "id": "e189af5b-5ed2-4591-8ab8-65847a7750b4",
   "metadata": {},
   "outputs": [],
   "source": [
    "#kaam badhana hai to \n",
    "\n",
    "excel_df.to_excel('sample-xlsx-file-modified.xlsx')\n",
    "\n",
    "#to_excel() is a method provided by Pandas that allows you to write a DataFrame to an Excel file.\n"
   ]
  },
  {
   "cell_type": "markdown",
   "id": "f905422e-8d02-4950-9741-f9c81fcaa0ec",
   "metadata": {},
   "source": [
    "# Working with AVRO files\n",
    "\n",
    ".avro files different from other file types.\n",
    "\n",
    "why its different: \n",
    ".avro files stores schemas of data in its header\n",
    "\n",
    "explaination:\n",
    "in other file types like .csv, xlsx, JSON, etc, when these file types contains data they \n",
    "treat each and every data as string be it date, or integer(are considered as string)\n",
    "and we have to explicitly change the datatypes as we have done previously many times.\n",
    "\n",
    "There comes .avro for rescue where it stores all data schemas like date , int, char, bool, string like that we don't have to explicitly change it as .avro has done it all"
   ]
  },
  {
   "cell_type": "code",
   "execution_count": null,
   "id": "c5f28fc7-5105-4f2d-aac4-b19c8515df52",
   "metadata": {},
   "outputs": [],
   "source": [
    "pip install avro-python3"
   ]
  },
  {
   "cell_type": "code",
   "execution_count": null,
   "id": "ca618220-7d9b-427c-ba1d-83dcf138677c",
   "metadata": {},
   "outputs": [],
   "source": []
  }
 ],
 "metadata": {
  "kernelspec": {
   "display_name": "Python 3 (ipykernel)",
   "language": "python",
   "name": "python3"
  },
  "language_info": {
   "codemirror_mode": {
    "name": "ipython",
    "version": 3
   },
   "file_extension": ".py",
   "mimetype": "text/x-python",
   "name": "python",
   "nbconvert_exporter": "python",
   "pygments_lexer": "ipython3",
   "version": "3.13.3"
  }
 },
 "nbformat": 4,
 "nbformat_minor": 5
}
