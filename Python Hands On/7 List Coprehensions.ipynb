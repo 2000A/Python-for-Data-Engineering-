{
 "cells": [
  {
   "cell_type": "markdown",
   "id": "8a55231e-df73-416c-9fe9-5f5521f80737",
   "metadata": {},
   "source": [
    "# List Comprehentions"
   ]
  },
  {
   "cell_type": "raw",
   "id": "a8652158-bcaa-4b22-8b83-67a58ec23964",
   "metadata": {},
   "source": [
    "using comprehentions we can write loop statements in one line\n",
    "this increases code readability and faster development speed"
   ]
  },
  {
   "cell_type": "code",
   "execution_count": 1,
   "id": "da4316dd-8074-49fe-9ecc-0d68f3ef016f",
   "metadata": {},
   "outputs": [
    {
     "data": {
      "text/plain": [
       "['krishn', 'mahadev', 'vishnu', 'ram', 'bhrama']"
      ]
     },
     "execution_count": 1,
     "metadata": {},
     "output_type": "execute_result"
    }
   ],
   "source": [
    "names = ['krishn','mahadev','vishnu','ram','bhrama']\n",
    "names"
   ]
  },
  {
   "cell_type": "code",
   "execution_count": 6,
   "id": "ed56a8aa-4195-44c9-a871-9ac720f994e2",
   "metadata": {},
   "outputs": [
    {
     "name": "stdout",
     "output_type": "stream",
     "text": [
      "['Lord krishn', 'Lord mahadev', 'Lord vishnu', 'Lord ram', 'Lord bhrama']\n"
     ]
    }
   ],
   "source": [
    "new_list = []\n",
    "for name in names:\n",
    "    new_list.append(\"Lord \"+ name)\n",
    "\n",
    "print(new_list)"
   ]
  },
  {
   "cell_type": "code",
   "execution_count": 7,
   "id": "ad76ea5e-ae89-44fa-a2cb-4867cfe9d263",
   "metadata": {},
   "outputs": [
    {
     "name": "stdout",
     "output_type": "stream",
     "text": [
      "['Maa mira', 'Maa radha', 'Maa rukmini', 'Maa parvati', 'Maa mahalakshmi', 'Maa kali', 'Maa vaishno devi']\n"
     ]
    }
   ],
   "source": [
    "names2 = ['mira','radha','rukmini','parvati','mahalakshmi','kali','vaishno devi']\n",
    "new_names = [ \"Maa \" + name for name in names2]\n",
    "print(new_names)"
   ]
  },
  {
   "cell_type": "code",
   "execution_count": 10,
   "id": "0edc315e-fd4d-4960-a5a8-96801818a738",
   "metadata": {},
   "outputs": [
    {
     "name": "stdout",
     "output_type": "stream",
     "text": [
      "[62, 26, 76, 32, 86, 50]\n",
      "[(77, 5929), (99, 9801), (65, 4225), (99, 9801), (25, 625), (75, 5625), (47, 2209), (45, 2025)]\n"
     ]
    }
   ],
   "source": [
    "numbers = [62,77,26,76,99,65,32,99,25,75,47,45,86,50]\n",
    "even = [num for num in numbers if num % 2 == 0]\n",
    "print(even)\n",
    "\n",
    "odd_square = [(num,num*num) for num in numbers if num % 2 == 1]\n",
    "print(odd_square)"
   ]
  },
  {
   "cell_type": "code",
   "execution_count": null,
   "id": "00846f2b-8f73-488f-8bab-9802bff128ad",
   "metadata": {},
   "outputs": [],
   "source": []
  }
 ],
 "metadata": {
  "kernelspec": {
   "display_name": "Python 3 (ipykernel)",
   "language": "python",
   "name": "python3"
  },
  "language_info": {
   "codemirror_mode": {
    "name": "ipython",
    "version": 3
   },
   "file_extension": ".py",
   "mimetype": "text/x-python",
   "name": "python",
   "nbconvert_exporter": "python",
   "pygments_lexer": "ipython3",
   "version": "3.13.3"
  }
 },
 "nbformat": 4,
 "nbformat_minor": 5
}
