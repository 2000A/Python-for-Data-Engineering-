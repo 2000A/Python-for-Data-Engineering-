{
 "cells": [
  {
   "cell_type": "code",
   "execution_count": 1,
   "id": "ed406a7d-be74-435f-837a-d01d4779981c",
   "metadata": {},
   "outputs": [
    {
     "data": {
      "text/plain": [
       "9"
      ]
     },
     "execution_count": 1,
     "metadata": {},
     "output_type": "execute_result"
    }
   ],
   "source": [
    "4+5"
   ]
  },
  {
   "cell_type": "code",
   "execution_count": 2,
   "id": "1bece7b3-4fd5-4229-b493-87c289792116",
   "metadata": {},
   "outputs": [
    {
     "data": {
      "text/plain": [
       "229954"
      ]
     },
     "execution_count": 2,
     "metadata": {},
     "output_type": "execute_result"
    }
   ],
   "source": [
    "9998*23"
   ]
  },
  {
   "cell_type": "code",
   "execution_count": 3,
   "id": "4fd58ea5-f922-42e1-a7f4-ffcf26c86ca4",
   "metadata": {},
   "outputs": [
    {
     "data": {
      "text/plain": [
       "11"
      ]
     },
     "execution_count": 3,
     "metadata": {},
     "output_type": "execute_result"
    }
   ],
   "source": [
    "55//5"
   ]
  },
  {
   "cell_type": "code",
   "execution_count": 4,
   "id": "6b2f2281-b553-4c00-b257-7ab016f9b3dd",
   "metadata": {},
   "outputs": [
    {
     "data": {
      "text/plain": [
       "int"
      ]
     },
     "execution_count": 4,
     "metadata": {},
     "output_type": "execute_result"
    }
   ],
   "source": [
    "type(55//5)"
   ]
  },
  {
   "cell_type": "code",
   "execution_count": 5,
   "id": "6379f19c-c859-4999-a3c1-efa44329d6bc",
   "metadata": {},
   "outputs": [
    {
     "data": {
      "text/plain": [
       "float"
      ]
     },
     "execution_count": 5,
     "metadata": {},
     "output_type": "execute_result"
    }
   ],
   "source": [
    "type(55/5)"
   ]
  },
  {
   "cell_type": "code",
   "execution_count": 6,
   "id": "addfa761-0df9-4936-baa1-fcd574da5ded",
   "metadata": {},
   "outputs": [
    {
     "data": {
      "text/plain": [
       "1024"
      ]
     },
     "execution_count": 6,
     "metadata": {},
     "output_type": "execute_result"
    }
   ],
   "source": [
    "2**10"
   ]
  },
  {
   "cell_type": "code",
   "execution_count": 7,
   "id": "cf86fc53-8295-4f99-8c45-3d8dfd2ed437",
   "metadata": {},
   "outputs": [
    {
     "data": {
      "text/plain": [
       "1146.7397260273972"
      ]
     },
     "execution_count": 7,
     "metadata": {},
     "output_type": "execute_result"
    }
   ],
   "source": [
    "2/73*100+1234-90 #computer also follows bodmas and opration is from left to right"
   ]
  },
  {
   "cell_type": "code",
   "execution_count": 9,
   "id": "4322e8d5-b9b7-4e96-8da2-a38d7ada15e6",
   "metadata": {},
   "outputs": [
    {
     "data": {
      "text/plain": [
       "85"
      ]
     },
     "execution_count": 9,
     "metadata": {},
     "output_type": "execute_result"
    }
   ],
   "source": [
    "(2+2)+(9*9) #here as well computer will target(or) solve brackets first"
   ]
  },
  {
   "cell_type": "markdown",
   "id": "f779d08c-ed91-49ee-8e41-2251e6ab3bf8",
   "metadata": {},
   "source": [
    "# Variable Assignments\n",
    "## assign names and create variables\n",
    "### 1.Names can not start with a number.\n",
    "### 2.There can be no spaces in the name, use underscore (_) instead\n",
    "### 3.Can't use any of these symbols : \"\", <>/?\\():@#$^&*-+"
   ]
  },
  {
   "cell_type": "code",
   "execution_count": 10,
   "id": "11e85112-0328-4e57-a059-161b60ba2ff8",
   "metadata": {},
   "outputs": [],
   "source": [
    "Abhishek = 10"
   ]
  },
  {
   "cell_type": "code",
   "execution_count": 12,
   "id": "742f3389-e735-4076-b10f-6cedafae10e5",
   "metadata": {},
   "outputs": [
    {
     "name": "stdout",
     "output_type": "stream",
     "text": [
      "15.0\n"
     ]
    }
   ],
   "source": [
    "a= 10\n",
    "b= 20\n",
    "mean = (a+b)/2\n",
    "print(mean)"
   ]
  },
  {
   "cell_type": "code",
   "execution_count": null,
   "id": "7632ba2b-57be-4671-bc97-de9315652926",
   "metadata": {},
   "outputs": [],
   "source": []
  }
 ],
 "metadata": {
  "kernelspec": {
   "display_name": "Python 3 (ipykernel)",
   "language": "python",
   "name": "python3"
  },
  "language_info": {
   "codemirror_mode": {
    "name": "ipython",
    "version": 3
   },
   "file_extension": ".py",
   "mimetype": "text/x-python",
   "name": "python",
   "nbconvert_exporter": "python",
   "pygments_lexer": "ipython3",
   "version": "3.13.3"
  }
 },
 "nbformat": 4,
 "nbformat_minor": 5
}
