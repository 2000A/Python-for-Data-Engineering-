{
 "cells": [
  {
   "cell_type": "markdown",
   "id": "f04e66ed-ba20-4e59-bc79-9100bb1ae8dd",
   "metadata": {},
   "source": [
    "# Exception handling"
   ]
  },
  {
   "cell_type": "raw",
   "id": "ad9393e2-32be-4321-a7e5-33dafdf89d01",
   "metadata": {},
   "source": [
    "in python we use try and except \n",
    "very important and useful for production level applications\n",
    "as say you want to connect to a database and some exception occur so you don't want your \n",
    "code to stop running in order to continue you progam code we use exception handling."
   ]
  },
  {
   "cell_type": "code",
   "execution_count": 1,
   "id": "ae9fa290-7cb0-46e6-902c-4208ce277450",
   "metadata": {},
   "outputs": [
    {
     "ename": "ZeroDivisionError",
     "evalue": "division by zero",
     "output_type": "error",
     "traceback": [
      "\u001b[31m---------------------------------------------------------------------------\u001b[39m",
      "\u001b[31mZeroDivisionError\u001b[39m                         Traceback (most recent call last)",
      "\u001b[36mCell\u001b[39m\u001b[36m \u001b[39m\u001b[32mIn[1]\u001b[39m\u001b[32m, line 1\u001b[39m\n\u001b[32m----> \u001b[39m\u001b[32m1\u001b[39m \u001b[32;43m1\u001b[39;49m\u001b[43m/\u001b[49m\u001b[32;43m0\u001b[39;49m\n",
      "\u001b[31mZeroDivisionError\u001b[39m: division by zero"
     ]
    }
   ],
   "source": [
    "1/0"
   ]
  },
  {
   "cell_type": "code",
   "execution_count": 2,
   "id": "c78776e7-59e6-4940-a578-d6434b90448b",
   "metadata": {},
   "outputs": [
    {
     "name": "stdout",
     "output_type": "stream",
     "text": [
      "divided by zero\n",
      "excuted when exception occur\n",
      "the code runs on\n"
     ]
    }
   ],
   "source": [
    "try:\n",
    "    x = 1 / 0\n",
    "except ZeroDivisionError:\n",
    "    print('divided by zero')\n",
    "    print('excuted when exception occur')\n",
    "else:\n",
    "    print(\"here after no exception occured\")\n",
    "print(\"the code runs on\")"
   ]
  },
  {
   "cell_type": "code",
   "execution_count": 3,
   "id": "90c86aac-37b2-4c4e-8329-03a9d26657c6",
   "metadata": {},
   "outputs": [
    {
     "name": "stdout",
     "output_type": "stream",
     "text": [
      "hello data engineeer\n"
     ]
    },
    {
     "ename": "ZeroDivisionError",
     "evalue": "division by zero",
     "output_type": "error",
     "traceback": [
      "\u001b[31m---------------------------------------------------------------------------\u001b[39m",
      "\u001b[31mZeroDivisionError\u001b[39m                         Traceback (most recent call last)",
      "\u001b[36mCell\u001b[39m\u001b[36m \u001b[39m\u001b[32mIn[3]\u001b[39m\u001b[32m, line 3\u001b[39m\n\u001b[32m      1\u001b[39m \u001b[38;5;28mprint\u001b[39m(\u001b[33m\"\u001b[39m\u001b[33mhello data engineeer\u001b[39m\u001b[33m\"\u001b[39m)\n\u001b[32m----> \u001b[39m\u001b[32m3\u001b[39m \u001b[32;43m1\u001b[39;49m\u001b[43m \u001b[49m\u001b[43m/\u001b[49m\u001b[43m \u001b[49m\u001b[32;43m0\u001b[39;49m\n\u001b[32m      5\u001b[39m \u001b[38;5;28mprint\u001b[39m(\u001b[33m\"\u001b[39m\u001b[33mwassup\u001b[39m\u001b[33m\"\u001b[39m)\n",
      "\u001b[31mZeroDivisionError\u001b[39m: division by zero"
     ]
    }
   ],
   "source": [
    "print(\"hello data engineeer\")\n",
    "\n",
    "1 / 0\n",
    "\n",
    "print(\"wassup\") #this code didn't get exucuted"
   ]
  },
  {
   "cell_type": "code",
   "execution_count": 4,
   "id": "876aed25-5931-4b00-ac24-1d4d448203c0",
   "metadata": {},
   "outputs": [
    {
     "name": "stdout",
     "output_type": "stream",
     "text": [
      "hello data engineeer\n",
      "exception occured\n",
      "wassup\n"
     ]
    }
   ],
   "source": [
    "print(\"hello data engineeer\")\n",
    "\n",
    "try:\n",
    "    1 / 0 \n",
    "except ZeroDivisionError:\n",
    "    print(\"exception occured\")\n",
    "print(\"wassup\") # and our program never stopped running"
   ]
  },
  {
   "cell_type": "raw",
   "id": "39074568-9d80-4d89-b7e5-a147a3070ea2",
   "metadata": {},
   "source": [
    "class                Description\n",
    "Exception            A base class for most error types\n",
    "AttributeError       Raised by syntax obj.foo, if obj has no memeber named foo\n",
    "EOFError             Raised upon failure of I/O operation (e.g.,opening file)\n",
    "IndexError           Raised if index to sequence is out bounds\n",
    "KeyError             Raised if nonexistent key requested for set or dictionary\n",
    "KeyboardInterrupt    Raised if user types ctrl-C while program is executing\n",
    "NameError            Raised if nonexistent identifier used \n",
    "StopIteration        Raised by next(iterator) if no element\n",
    "TypeError            raised when wrong type of parameter is sent to a function\n",
    "ValueError           raised when paramenter has invalid value(ex.,sqrt(-5)\n",
    "ZeroDivisionError    raised when any division opertator used with 0 as divisor"
   ]
  },
  {
   "cell_type": "code",
   "execution_count": null,
   "id": "2ad8208f-1a85-44d9-86b2-76cc864ea00d",
   "metadata": {},
   "outputs": [],
   "source": []
  }
 ],
 "metadata": {
  "kernelspec": {
   "display_name": "Python 3 (ipykernel)",
   "language": "python",
   "name": "python3"
  },
  "language_info": {
   "codemirror_mode": {
    "name": "ipython",
    "version": 3
   },
   "file_extension": ".py",
   "mimetype": "text/x-python",
   "name": "python",
   "nbconvert_exporter": "python",
   "pygments_lexer": "ipython3",
   "version": "3.13.3"
  }
 },
 "nbformat": 4,
 "nbformat_minor": 5
}
