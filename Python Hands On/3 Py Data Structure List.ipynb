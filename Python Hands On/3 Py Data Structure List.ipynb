{
 "cells": [
  {
   "cell_type": "markdown",
   "id": "d3addb00-cc70-4c57-91c6-3d04721e5f62",
   "metadata": {},
   "source": [
    "# Py Data Structure: Working with List"
   ]
  },
  {
   "cell_type": "markdown",
   "id": "cf1e8998-042b-43bf-8cf2-88d0144cbe44",
   "metadata": {},
   "source": [
    "# L = [20, \"Ajay\", 3.42, [1,2,3]] "
   ]
  },
  {
   "cell_type": "markdown",
   "id": "9faae1e2-e031-4850-9a7b-e95df6190f02",
   "metadata": {},
   "source": [
    "## Orderd, Changable, Heterogenous, Contains duplicates"
   ]
  },
  {
   "cell_type": "code",
   "execution_count": 2,
   "id": "453f6e2e-3ff8-4cb7-b82e-fbb14601010b",
   "metadata": {},
   "outputs": [],
   "source": [
    "my_list = [1,2,3]  #list of integers"
   ]
  },
  {
   "cell_type": "code",
   "execution_count": 7,
   "id": "90c88367-d7d2-4106-ac05-033303652721",
   "metadata": {},
   "outputs": [
    {
     "data": {
      "text/plain": [
       "2"
      ]
     },
     "execution_count": 7,
     "metadata": {},
     "output_type": "execute_result"
    }
   ],
   "source": [
    "my_list[1]"
   ]
  },
  {
   "cell_type": "code",
   "execution_count": 8,
   "id": "e45b6336-c544-4827-9258-50be92e1df6d",
   "metadata": {},
   "outputs": [
    {
     "data": {
      "text/plain": [
       "[1, 2, 3]"
      ]
     },
     "execution_count": 8,
     "metadata": {},
     "output_type": "execute_result"
    }
   ],
   "source": [
    "my_list #To print complete list"
   ]
  },
  {
   "cell_type": "code",
   "execution_count": 10,
   "id": "2333633b-d7aa-4175-8c7c-fb006df6fc8c",
   "metadata": {},
   "outputs": [
    {
     "data": {
      "text/plain": [
       "3"
      ]
     },
     "execution_count": 10,
     "metadata": {},
     "output_type": "execute_result"
    }
   ],
   "source": [
    "len(my_list) #len() function to chech length of list"
   ]
  },
  {
   "cell_type": "code",
   "execution_count": 11,
   "id": "3b8aac30-bb69-4c8d-bd1f-94ea4d09bdb0",
   "metadata": {},
   "outputs": [],
   "source": [
    "list = [23, 43.332, \"Abhi\", 's', [\"ram\", 12, 'A',2000]]"
   ]
  },
  {
   "cell_type": "code",
   "execution_count": 12,
   "id": "60fea8a7-c7e1-4817-a1a7-659d26bb107c",
   "metadata": {},
   "outputs": [
    {
     "data": {
      "text/plain": [
       "[23, 43.332, 'Abhi', 's', ['ram', 12, 'A', 2000]]"
      ]
     },
     "execution_count": 12,
     "metadata": {},
     "output_type": "execute_result"
    }
   ],
   "source": [
    "list"
   ]
  },
  {
   "cell_type": "markdown",
   "id": "290cd5d8-fec1-4aee-8ddf-02faba1f3df2",
   "metadata": {},
   "source": [
    "### append() : add anything at the end of list"
   ]
  },
  {
   "cell_type": "code",
   "execution_count": 13,
   "id": "f0f3a134-1922-43e3-915b-e413ec861fcc",
   "metadata": {},
   "outputs": [],
   "source": [
    "my_list.append(4) #append takes exactly one argument"
   ]
  },
  {
   "cell_type": "code",
   "execution_count": 14,
   "id": "b9d705db-ae04-4fde-876b-39bb7595995e",
   "metadata": {},
   "outputs": [
    {
     "data": {
      "text/plain": [
       "[1, 2, 3, 4]"
      ]
     },
     "execution_count": 14,
     "metadata": {},
     "output_type": "execute_result"
    }
   ],
   "source": [
    "my_list"
   ]
  },
  {
   "cell_type": "code",
   "execution_count": 19,
   "id": "0e08f91c-0808-4c25-92ce-3bc225bd64b8",
   "metadata": {},
   "outputs": [],
   "source": [
    "my_list.append([5,6,7,8,9])"
   ]
  },
  {
   "cell_type": "code",
   "execution_count": 22,
   "id": "3cd353f6-ce3c-4523-8b5d-0e8101207970",
   "metadata": {},
   "outputs": [
    {
     "data": {
      "text/plain": [
       "[1, 2, 3, 4, 5, [5, 6, 7, 8, 9]]"
      ]
     },
     "execution_count": 22,
     "metadata": {},
     "output_type": "execute_result"
    }
   ],
   "source": [
    "my_list   # I can see a sublist attached at the end of my_list as it is ( at 5th index )"
   ]
  },
  {
   "cell_type": "markdown",
   "id": "83f7d98f-deff-4e95-af8d-e6dbdebea0f7",
   "metadata": {},
   "source": [
    "### extend() : this function extract and then add anything to main list"
   ]
  },
  {
   "cell_type": "code",
   "execution_count": 36,
   "id": "f8ad4465-c602-44cb-88e5-50275553d64d",
   "metadata": {},
   "outputs": [],
   "source": [
    "my_list1 = [1,2,3]\n",
    "my_list2 = [4,5,6]"
   ]
  },
  {
   "cell_type": "code",
   "execution_count": 25,
   "id": "5d9a9287-d407-4703-b15b-9bdd9d0076bf",
   "metadata": {},
   "outputs": [],
   "source": [
    "my_list1.append(my_list2)"
   ]
  },
  {
   "cell_type": "code",
   "execution_count": 33,
   "id": "d168bb44-4f6a-42af-a966-18f07df250a6",
   "metadata": {},
   "outputs": [
    {
     "data": {
      "text/plain": [
       "[4, 5, 6]"
      ]
     },
     "execution_count": 33,
     "metadata": {},
     "output_type": "execute_result"
    }
   ],
   "source": [
    "my_list1[4]"
   ]
  },
  {
   "cell_type": "code",
   "execution_count": 37,
   "id": "4a519a66-8a5b-4621-a6d6-cb6d081907b4",
   "metadata": {},
   "outputs": [],
   "source": [
    "my_list1.extend(my_list2)"
   ]
  },
  {
   "cell_type": "code",
   "execution_count": 38,
   "id": "d1bc2369-dbde-4ebc-ba3e-11e55a00af2d",
   "metadata": {},
   "outputs": [
    {
     "data": {
      "text/plain": [
       "[1, 2, 3, 4, 5, 6]"
      ]
     },
     "execution_count": 38,
     "metadata": {},
     "output_type": "execute_result"
    }
   ],
   "source": [
    "my_list1"
   ]
  },
  {
   "cell_type": "markdown",
   "id": "bcafc671-ba4c-4af0-852c-2cd69808d428",
   "metadata": {},
   "source": [
    "### slicing  (start:stop:step) and range() "
   ]
  },
  {
   "cell_type": "code",
   "execution_count": 40,
   "id": "af1414a3-935b-4813-b180-0a6cc52b4974",
   "metadata": {},
   "outputs": [
    {
     "data": {
      "text/plain": [
       "range(0, 10)"
      ]
     },
     "execution_count": 40,
     "metadata": {},
     "output_type": "execute_result"
    }
   ],
   "source": [
    "range(10)  #gives range of numbers in this case we got 1 to 10 numbers"
   ]
  },
  {
   "cell_type": "code",
   "execution_count": 41,
   "id": "c1d69166-05cd-4aae-beb2-3a6d34339793",
   "metadata": {},
   "outputs": [
    {
     "name": "stdout",
     "output_type": "stream",
     "text": [
      "0\n",
      "1\n",
      "2\n",
      "3\n",
      "4\n",
      "5\n",
      "6\n",
      "7\n",
      "8\n",
      "9\n"
     ]
    }
   ],
   "source": [
    "for i in range(10): print(i)"
   ]
  },
  {
   "cell_type": "code",
   "execution_count": 49,
   "id": "7f2b8978-b8d7-4998-99fa-54f8ec6bec08",
   "metadata": {},
   "outputs": [],
   "source": [
    "del(list)\n",
    "my_list3 = list(range(10)) #converting range() into list"
   ]
  },
  {
   "cell_type": "code",
   "execution_count": 50,
   "id": "bd5671e7-d450-4636-9d8b-9b74be9f2f4d",
   "metadata": {},
   "outputs": [
    {
     "data": {
      "text/plain": [
       "[0, 1, 2, 3, 4, 5, 6, 7, 8, 9]"
      ]
     },
     "execution_count": 50,
     "metadata": {},
     "output_type": "execute_result"
    }
   ],
   "source": [
    "my_list3"
   ]
  },
  {
   "cell_type": "code",
   "execution_count": 51,
   "id": "13fa437b-dca1-4be3-8703-3ed5cd38db6a",
   "metadata": {},
   "outputs": [
    {
     "name": "stdout",
     "output_type": "stream",
     "text": [
      "element from index 3 to 8: [3, 4, 5, 6, 7]\n",
      "alternate elements, starting from index 0: [0, 2, 4, 6, 8]\n",
      "every third element, starting from index 1: [1, 4, 7]\n"
     ]
    }
   ],
   "source": [
    "print(\"element from index 3 to 8:\",my_list3[3:8])\n",
    "print(\"alternate elements, starting from index 0:\",my_list3[0::2])\n",
    "print(\"every third element, starting from index 1:\",my_list3[1::3])\n",
    "      "
   ]
  },
  {
   "cell_type": "code",
   "execution_count": 60,
   "id": "dfedcc75-bb09-4d99-a993-6eb688c8e0da",
   "metadata": {},
   "outputs": [
    {
     "data": {
      "text/plain": [
       "[]"
      ]
     },
     "execution_count": 60,
     "metadata": {},
     "output_type": "execute_result"
    }
   ],
   "source": [
    "my_list3[-1:-10] #no step \n",
    "                  #in python slice always goes forward cannot from higher index to lower one\n",
    "                  # therfor empty [] list"
   ]
  },
  {
   "cell_type": "code",
   "execution_count": 61,
   "id": "ded208fa-2c39-47b4-98eb-c8e4c29c407b",
   "metadata": {},
   "outputs": [
    {
     "data": {
      "text/plain": [
       "[9, 8, 7, 6, 5, 4, 3, 2]"
      ]
     },
     "execution_count": 61,
     "metadata": {},
     "output_type": "execute_result"
    }
   ],
   "source": [
    "my_list3[-1:-9:-1]"
   ]
  },
  {
   "cell_type": "code",
   "execution_count": null,
   "id": "46f4f8a1-bdfd-433a-a260-5d00ff55b728",
   "metadata": {},
   "outputs": [],
   "source": []
  }
 ],
 "metadata": {
  "kernelspec": {
   "display_name": "Python 3 (ipykernel)",
   "language": "python",
   "name": "python3"
  },
  "language_info": {
   "codemirror_mode": {
    "name": "ipython",
    "version": 3
   },
   "file_extension": ".py",
   "mimetype": "text/x-python",
   "name": "python",
   "nbconvert_exporter": "python",
   "pygments_lexer": "ipython3",
   "version": "3.13.3"
  }
 },
 "nbformat": 4,
 "nbformat_minor": 5
}
