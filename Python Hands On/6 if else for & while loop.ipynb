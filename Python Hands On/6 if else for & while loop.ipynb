{
 "cells": [
  {
   "cell_type": "markdown",
   "id": "c1c9069c-3c4c-4c95-a81d-bb22b2f8e082",
   "metadata": {},
   "source": [
    "# If,elif,else Statements"
   ]
  },
  {
   "cell_type": "raw",
   "id": "909c7073-d205-4920-9d07-a1ffbbe34409",
   "metadata": {},
   "source": [
    "if case1:\n",
    "    perform action1\n",
    "elif case2:\n",
    "    perform action2\n",
    "else:\n",
    "    perfomr action3"
   ]
  },
  {
   "cell_type": "code",
   "execution_count": 3,
   "id": "8f7ffd36-3b43-42b2-927c-fccce256359b",
   "metadata": {},
   "outputs": [],
   "source": [
    "a = 4\n",
    "b = 8"
   ]
  },
  {
   "cell_type": "code",
   "execution_count": 4,
   "id": "a6780c1b-9c53-40d8-a4dd-e1a134d8d964",
   "metadata": {},
   "outputs": [
    {
     "data": {
      "text/plain": [
       "False"
      ]
     },
     "execution_count": 4,
     "metadata": {},
     "output_type": "execute_result"
    }
   ],
   "source": [
    "a>b"
   ]
  },
  {
   "cell_type": "raw",
   "id": "75a1629a-0d9e-4c16-8c9c-5e356b5884ea",
   "metadata": {},
   "source": [
    "if a>b{\n",
    "    if block\n",
    "}\n",
    "else{\n",
    "    else block\n",
    "}\n",
    "    "
   ]
  },
  {
   "cell_type": "code",
   "execution_count": 6,
   "id": "c2fa97cb-da87-4e34-bf9b-e99ff492a4cd",
   "metadata": {},
   "outputs": [
    {
     "name": "stdout",
     "output_type": "stream",
     "text": [
      "b is greater than a\n"
     ]
    }
   ],
   "source": [
    "if a>b:\n",
    "    #inside if block\n",
    "    print(\"a is greater than b\")\n",
    "elif b>a:\n",
    "    #inside elif block\n",
    "    print(\"b is greater than a\")\n",
    "else:\n",
    "    #inside else block\n",
    "    print(\"both are equal\")"
   ]
  },
  {
   "cell_type": "markdown",
   "id": "e9d3c306-9324-457b-a96f-7e51d9b36465",
   "metadata": {},
   "source": [
    "# for loops"
   ]
  },
  {
   "cell_type": "code",
   "execution_count": 7,
   "id": "0e378902-793b-4807-91a8-5dfb1841e00b",
   "metadata": {},
   "outputs": [],
   "source": [
    "users = list(range(20))"
   ]
  },
  {
   "cell_type": "code",
   "execution_count": 8,
   "id": "e1639c79-d02b-4c5b-83b2-7a85df37ea48",
   "metadata": {},
   "outputs": [
    {
     "data": {
      "text/plain": [
       "[0, 1, 2, 3, 4, 5, 6, 7, 8, 9, 10, 11, 12, 13, 14, 15, 16, 17, 18, 19]"
      ]
     },
     "execution_count": 8,
     "metadata": {},
     "output_type": "execute_result"
    }
   ],
   "source": [
    "users"
   ]
  },
  {
   "cell_type": "code",
   "execution_count": 10,
   "id": "a58ac631-7e96-4126-bbf4-e8a2b9607532",
   "metadata": {},
   "outputs": [
    {
     "name": "stdout",
     "output_type": "stream",
     "text": [
      "This is my 0th user\n",
      "This is my 1th user\n",
      "This is my 2th user\n",
      "This is my 3th user\n",
      "This is my 4th user\n",
      "This is my 5th user\n",
      "This is my 6th user\n",
      "This is my 7th user\n",
      "This is my 8th user\n",
      "This is my 9th user\n",
      "This is my 10th user\n",
      "This is my 11th user\n",
      "This is my 12th user\n",
      "This is my 13th user\n",
      "This is my 14th user\n",
      "This is my 15th user\n",
      "This is my 16th user\n",
      "This is my 17th user\n",
      "This is my 18th user\n",
      "This is my 19th user\n"
     ]
    }
   ],
   "source": [
    "for user in users:\n",
    "    print(f\"This is my {user}th user\")"
   ]
  },
  {
   "cell_type": "raw",
   "id": "cc0eb3ca-ca56-4053-8be3-ef6da1d17f1e",
   "metadata": {},
   "source": [
    "modulus operater % which gives remainder"
   ]
  },
  {
   "cell_type": "code",
   "execution_count": 11,
   "id": "84dd1f50-922a-4401-995b-c5337096bafb",
   "metadata": {},
   "outputs": [
    {
     "data": {
      "text/plain": [
       "4"
      ]
     },
     "execution_count": 11,
     "metadata": {},
     "output_type": "execute_result"
    }
   ],
   "source": [
    "89%5"
   ]
  },
  {
   "cell_type": "code",
   "execution_count": 13,
   "id": "443614f2-b511-47cd-862a-14db85a1892f",
   "metadata": {},
   "outputs": [
    {
     "name": "stdout",
     "output_type": "stream",
     "text": [
      "This is even number 2\n",
      "This is odd number 43\n",
      "This is odd number 23\n",
      "This is odd number 55\n",
      "This is even number 32\n",
      "This is even number 66\n",
      "This is even number 12\n",
      "This is even number 96\n",
      "This is odd number 35\n",
      "This is even number 18\n",
      "This is even number 10\n",
      "This is even number 86\n",
      "This is odd number 383\n",
      "This is even number 32514\n"
     ]
    }
   ],
   "source": [
    "list_1 = [2,43,23,55,32,66,12,96,35,18,10,86,383,32514]\n",
    "for number in list_1:\n",
    "    if number % 2 == 0:\n",
    "        print(f\"This is even number {number}\")\n",
    "    else:\n",
    "        print(f\"This is odd number {number}\")"
   ]
  },
  {
   "cell_type": "markdown",
   "id": "19328fa3-1359-4515-a8e3-6ca76d9bfd1a",
   "metadata": {},
   "source": [
    "# While loops"
   ]
  },
  {
   "cell_type": "raw",
   "id": "8c1a5aca-9e8d-4788-8a59-73ec3b305fb1",
   "metadata": {},
   "source": [
    "while test:\n",
    "    code statement\n",
    "else:\n",
    "    final code statements"
   ]
  },
  {
   "cell_type": "code",
   "execution_count": null,
   "id": "856f292c-144c-4dd8-84fe-3917576444e5",
   "metadata": {},
   "outputs": [],
   "source": [
    "x = 11\n",
    "\n",
    "while x > 10:\n",
    "    print('x is currently: ',x,end=' ')\n",
    "    print(', x is still less than 10, adding 1 to x')\n",
    "    x -= 1 "
   ]
  },
  {
   "cell_type": "code",
   "execution_count": null,
   "id": "4ab522a2-a616-4509-ae6b-bee3eb718ed8",
   "metadata": {},
   "outputs": [],
   "source": []
  },
  {
   "cell_type": "code",
   "execution_count": null,
   "id": "45a4b4e4-a5dc-4afd-bbfb-330ee9d9230f",
   "metadata": {},
   "outputs": [],
   "source": []
  }
 ],
 "metadata": {
  "kernelspec": {
   "display_name": "Python 3 (ipykernel)",
   "language": "python",
   "name": "python3"
  },
  "language_info": {
   "codemirror_mode": {
    "name": "ipython",
    "version": 3
   },
   "file_extension": ".py",
   "mimetype": "text/x-python",
   "name": "python",
   "nbconvert_exporter": "python",
   "pygments_lexer": "ipython3",
   "version": "3.13.3"
  }
 },
 "nbformat": 4,
 "nbformat_minor": 5
}
