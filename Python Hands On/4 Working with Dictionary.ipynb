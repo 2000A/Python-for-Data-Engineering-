{
 "cells": [
  {
   "cell_type": "markdown",
   "id": "95d9cd69-c91b-49fc-967c-b6190c4eef90",
   "metadata": {},
   "source": [
    "# Working with Dictionary"
   ]
  },
  {
   "cell_type": "markdown",
   "id": "b8f98221-6bd1-4ecf-b6c2-d88e70225c5b",
   "metadata": {},
   "source": [
    "### Unordered collection of unique values stored in key-value pairs\n",
    "#### d = {'a':\"Abhishek\", 'b':234, 'c':[1,2,33], 'd':40}\n",
    "##### unordered: The items in dictionary are stored without any index value\n",
    "##### unique: keys in dict should be unique\n",
    "##### mutable: We can create,modify,remove key-value after the creation"
   ]
  },
  {
   "cell_type": "code",
   "execution_count": 1,
   "id": "fb5a336c-aa11-47c8-ad79-b8d5ab7a3d3c",
   "metadata": {},
   "outputs": [],
   "source": [
    "my_dict = {'key1':\"value1\",'key2':\"value2\"}"
   ]
  },
  {
   "cell_type": "code",
   "execution_count": 3,
   "id": "0c17492f-1099-4a85-bcc3-e65576009d9a",
   "metadata": {},
   "outputs": [
    {
     "name": "stdout",
     "output_type": "stream",
     "text": [
      "{'key1': 'value1', 'key2': 'value2'}\n"
     ]
    }
   ],
   "source": [
    "print(my_dict)"
   ]
  },
  {
   "cell_type": "code",
   "execution_count": 4,
   "id": "e00bf6a3-00e6-4bd4-956c-2d48da50088c",
   "metadata": {},
   "outputs": [
    {
     "data": {
      "text/plain": [
       "'value1'"
      ]
     },
     "execution_count": 4,
     "metadata": {},
     "output_type": "execute_result"
    }
   ],
   "source": [
    "#call value using their key\n",
    "my_dict['key1']"
   ]
  },
  {
   "cell_type": "code",
   "execution_count": 5,
   "id": "dee0a03b-078e-429e-8578-b0e63d5bd830",
   "metadata": {},
   "outputs": [
    {
     "name": "stdout",
     "output_type": "stream",
     "text": [
      "{'key1': 123, 'key2': 'value2'}\n"
     ]
    }
   ],
   "source": [
    "#modifying value of key1\n",
    "my_dict['key1'] = 123\n",
    "print(my_dict)"
   ]
  },
  {
   "cell_type": "code",
   "execution_count": 6,
   "id": "d4748e88-16b8-473c-8976-81be61eb1d51",
   "metadata": {},
   "outputs": [
    {
     "data": {
      "text/plain": [
       "0"
      ]
     },
     "execution_count": 6,
     "metadata": {},
     "output_type": "execute_result"
    }
   ],
   "source": [
    "my_dict['key1'] - 123"
   ]
  },
  {
   "cell_type": "code",
   "execution_count": 7,
   "id": "6c29207e-6349-42e4-8aa4-c4067053cd8b",
   "metadata": {},
   "outputs": [
    {
     "name": "stdout",
     "output_type": "stream",
     "text": [
      "{'key1': 0, 'key2': 'value2'}\n"
     ]
    }
   ],
   "source": [
    "my_dict['key1'] = my_dict['key1'] - 123\n",
    "print(my_dict)"
   ]
  },
  {
   "cell_type": "code",
   "execution_count": 2,
   "id": "338024b3-b5f8-4c6d-9f54-2725f1521ce7",
   "metadata": {},
   "outputs": [],
   "source": [
    "new_dict = {\n",
    "    'name': [\"Abhishek\", \"data\", \"engineer\"],\n",
    "    'surname': [\"Ram\", \"soie\", \"eidk\"],\n",
    "    'age': [25, 45, 12],\n",
    "    'city': {\n",
    "        'goodCity': [\"mumbai\", \"punjab\", \"varanasi\"],\n",
    "        'food': [\"vadapav\", \"sarso sag\", \"kulhad chai\"],\n",
    "        'famousPlace': [\"csmt\", \"golden temple\", \"kashi vishwanath\"]\n",
    "    }\n",
    "}\n"
   ]
  },
  {
   "cell_type": "code",
   "execution_count": 4,
   "id": "da9c69b3-7072-42da-bdd6-daeb8fa07a24",
   "metadata": {},
   "outputs": [
    {
     "data": {
      "text/plain": [
       "'Abhishek'"
      ]
     },
     "execution_count": 4,
     "metadata": {},
     "output_type": "execute_result"
    }
   ],
   "source": [
    "new_dict['name'][0]"
   ]
  },
  {
   "cell_type": "code",
   "execution_count": 7,
   "id": "c47244de-11ce-4a6e-bca1-3a08e8357e0a",
   "metadata": {},
   "outputs": [
    {
     "data": {
      "text/plain": [
       "'varanasi'"
      ]
     },
     "execution_count": 7,
     "metadata": {},
     "output_type": "execute_result"
    }
   ],
   "source": [
    "new_dict['city']['goodCity'][2]"
   ]
  },
  {
   "cell_type": "code",
   "execution_count": 8,
   "id": "2ceb4086-58ac-434d-84ee-b1ede8f8d1a6",
   "metadata": {},
   "outputs": [
    {
     "name": "stdout",
     "output_type": "stream",
     "text": [
      "{'name': ['Abhishek', 'data', 'engineer'], 'surname': ['Ram', 'soie', 'eidk'], 'age': [25, 45, 12], 'city': {'goodCity': ['mumbai', 'punjab', 'varanasi'], 'food': ['vadapav', 'sarso sag', 'kulhad chai'], 'famousPlace': ['csmt', 'golden temple', 'kashi vishwanath'], 'temples': ['babulnath', 'golden temple', 'anapurna temple']}}\n"
     ]
    }
   ],
   "source": [
    "#inserting new key-value to new_dict dictionary\n",
    "new_dict['city']['temples']=[\"babulnath\",\"golden temple\",\"anapurna temple\"]\n",
    "print(new_dict)\n"
   ]
  },
  {
   "cell_type": "code",
   "execution_count": 9,
   "id": "7f4842cb-5242-4b9a-a0ab-d9f5997067da",
   "metadata": {},
   "outputs": [],
   "source": [
    "li = [1,2,3,4,5,6]"
   ]
  },
  {
   "cell_type": "code",
   "execution_count": 10,
   "id": "bde006f5-e23a-41cb-9e3b-116c9818c147",
   "metadata": {},
   "outputs": [],
   "source": [
    "#inserting a string at index 3\n",
    "li.insert(3,\"mahadev\")"
   ]
  },
  {
   "cell_type": "code",
   "execution_count": 11,
   "id": "74cc98e6-79aa-41c1-9c37-3276107e5a70",
   "metadata": {},
   "outputs": [
    {
     "name": "stdout",
     "output_type": "stream",
     "text": [
      "[1, 2, 3, 'mahadev', 4, 5, 6]\n"
     ]
    }
   ],
   "source": [
    "print(li)"
   ]
  },
  {
   "cell_type": "code",
   "execution_count": 13,
   "id": "68bdd7f6-d3f3-4470-8280-411cf9429e12",
   "metadata": {},
   "outputs": [],
   "source": [
    "#deleting item at index 4\n",
    "li.remove(4)"
   ]
  },
  {
   "cell_type": "code",
   "execution_count": 14,
   "id": "f1692a7e-1d22-4fa8-8efd-d23f48ede652",
   "metadata": {},
   "outputs": [
    {
     "name": "stdout",
     "output_type": "stream",
     "text": [
      "[1, 2, 3, 'mahadev', 5, 6]\n"
     ]
    }
   ],
   "source": [
    "print(li)"
   ]
  },
  {
   "cell_type": "code",
   "execution_count": 16,
   "id": "dfe29443-098f-464d-a9ca-2a251c64c620",
   "metadata": {},
   "outputs": [
    {
     "data": {
      "text/plain": [
       "[25, 45, 12]"
      ]
     },
     "execution_count": 16,
     "metadata": {},
     "output_type": "execute_result"
    }
   ],
   "source": [
    "#lets remove item from dict\n",
    "new_dict.pop('age')"
   ]
  },
  {
   "cell_type": "code",
   "execution_count": 17,
   "id": "2eaeadf2-72b0-4853-9782-dc43cb8cc36d",
   "metadata": {},
   "outputs": [
    {
     "data": {
      "text/plain": [
       "{'name': ['Abhishek', 'data', 'engineer'],\n",
       " 'surname': ['Ram', 'soie', 'eidk'],\n",
       " 'city': {'goodCity': ['mumbai', 'punjab', 'varanasi'],\n",
       "  'food': ['vadapav', 'sarso sag', 'kulhad chai'],\n",
       "  'famousPlace': ['csmt', 'golden temple', 'kashi vishwanath'],\n",
       "  'temples': ['babulnath', 'golden temple', 'anapurna temple']}}"
      ]
     },
     "execution_count": 17,
     "metadata": {},
     "output_type": "execute_result"
    }
   ],
   "source": [
    "new_dict"
   ]
  },
  {
   "cell_type": "code",
   "execution_count": 18,
   "id": "7d5aa1fb-0f73-418f-9f3e-505c3905d26b",
   "metadata": {},
   "outputs": [
    {
     "name": "stdout",
     "output_type": "stream",
     "text": [
      "{'name': ['Abhishek', 'data', 'engineer'], 'surname': ['Ram', 'soie', 'eidk']}\n"
     ]
    }
   ],
   "source": [
    "del new_dict['city']\n",
    "print(new_dict)"
   ]
  },
  {
   "cell_type": "code",
   "execution_count": null,
   "id": "e2121009-06b4-47dd-b05a-df2396530613",
   "metadata": {},
   "outputs": [],
   "source": []
  }
 ],
 "metadata": {
  "kernelspec": {
   "display_name": "Python 3 (ipykernel)",
   "language": "python",
   "name": "python3"
  },
  "language_info": {
   "codemirror_mode": {
    "name": "ipython",
    "version": 3
   },
   "file_extension": ".py",
   "mimetype": "text/x-python",
   "name": "python",
   "nbconvert_exporter": "python",
   "pygments_lexer": "ipython3",
   "version": "3.13.3"
  }
 },
 "nbformat": 4,
 "nbformat_minor": 5
}
