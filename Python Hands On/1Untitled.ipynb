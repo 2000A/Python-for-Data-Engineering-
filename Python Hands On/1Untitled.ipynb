{
 "cells": [
  {
   "cell_type": "code",
   "execution_count": 2,
   "id": "20b2d27f-6241-4546-a5f1-d05439e93f42",
   "metadata": {},
   "outputs": [
    {
     "name": "stdout",
     "output_type": "stream",
     "text": [
      "Strings in Python\n"
     ]
    }
   ],
   "source": [
    "print('Strings in Python')"
   ]
  },
  {
   "cell_type": "code",
   "execution_count": 3,
   "id": "3f96a3ff-0a9c-4677-9565-2318c0af874c",
   "metadata": {},
   "outputs": [],
   "source": [
    "s = 'Hello world'"
   ]
  },
  {
   "cell_type": "code",
   "execution_count": 4,
   "id": "70d3180b-4660-4d1a-9564-2078fc9c2a5e",
   "metadata": {},
   "outputs": [
    {
     "name": "stdout",
     "output_type": "stream",
     "text": [
      "Hello world\n"
     ]
    }
   ],
   "source": [
    "print(s)"
   ]
  },
  {
   "cell_type": "code",
   "execution_count": 5,
   "id": "ce84b276-aad9-4d6c-8bec-4e8c3e2adbee",
   "metadata": {},
   "outputs": [
    {
     "name": "stdout",
     "output_type": "stream",
     "text": [
      "d\n"
     ]
    }
   ],
   "source": [
    "print(s[-1]) #to access last character of string"
   ]
  },
  {
   "cell_type": "code",
   "execution_count": 6,
   "id": "7601fdf7-d0f5-42bb-a4eb-6e50755ab0af",
   "metadata": {},
   "outputs": [
    {
     "name": "stdout",
     "output_type": "stream",
     "text": [
      "r\n"
     ]
    }
   ],
   "source": [
    "print(s[-3]) #access third last character"
   ]
  },
  {
   "cell_type": "code",
   "execution_count": 7,
   "id": "c22530ca-486f-4250-ad64-98ab7a6daab7",
   "metadata": {},
   "outputs": [
    {
     "name": "stdout",
     "output_type": "stream",
     "text": [
      "H\n"
     ]
    }
   ],
   "source": [
    "print(s[0])"
   ]
  },
  {
   "cell_type": "code",
   "execution_count": 10,
   "id": "10a037a6-e214-4a33-b9e9-d2249f8e6867",
   "metadata": {},
   "outputs": [],
   "source": [
    "#string concatination and string repitition\n",
    "# S1 + S2"
   ]
  },
  {
   "cell_type": "code",
   "execution_count": 9,
   "id": "95b4e3f3-1968-410b-97fb-92b51ddc655c",
   "metadata": {},
   "outputs": [
    {
     "name": "stdout",
     "output_type": "stream",
     "text": [
      "Hello Data Engineer\n"
     ]
    }
   ],
   "source": [
    "s1 = \"Hello\"\n",
    "s2 = \"Data Engineer\"\n",
    "print(s1+ \" \" +s2)"
   ]
  },
  {
   "cell_type": "code",
   "execution_count": 11,
   "id": "e6f99f0e-bbc0-4167-bdcd-14f806004c9a",
   "metadata": {},
   "outputs": [
    {
     "name": "stdout",
     "output_type": "stream",
     "text": [
      "Abhishek Abhishek Abhishek Abhishek Abhishek Abhishek \n"
     ]
    }
   ],
   "source": [
    "print(\"Abhishek \"*6 )"
   ]
  },
  {
   "cell_type": "code",
   "execution_count": 14,
   "id": "bcf9bc78-1599-4786-a2b9-a906cd8db813",
   "metadata": {},
   "outputs": [
    {
     "name": "stdout",
     "output_type": "stream",
     "text": [
      "Best Data engineer Abhishek RamBest Data engineer Abhishek RamBest Data engineer Abhishek RamBest Data engineer Abhishek RamBest Data engineer Abhishek Ram\n",
      "******************************************************************************************************************************************************\n"
     ]
    }
   ],
   "source": [
    "print(\"Best Data engineer Abhishek Ram\" * 5)\n",
    "print(\"*\" * 150)"
   ]
  },
  {
   "cell_type": "code",
   "execution_count": 5,
   "id": "8710c733-6243-4559-8d76-86feedae0471",
   "metadata": {},
   "outputs": [],
   "source": [
    "s= \"Namaste Python\""
   ]
  },
  {
   "cell_type": "code",
   "execution_count": 6,
   "id": "f1bcff86-3d15-4283-9f1a-11c1dcb0e498",
   "metadata": {},
   "outputs": [
    {
     "name": "stdout",
     "output_type": "stream",
     "text": [
      "a\n"
     ]
    }
   ],
   "source": [
    "print(s[1])"
   ]
  },
  {
   "cell_type": "code",
   "execution_count": 9,
   "id": "fd2594a4-9c44-45a9-857f-8b508e79bdfe",
   "metadata": {},
   "outputs": [
    {
     "name": "stdout",
     "output_type": "stream",
     "text": [
      "Pyth\n"
     ]
    }
   ],
   "source": [
    "print(s[8:12])"
   ]
  },
  {
   "cell_type": "code",
   "execution_count": 11,
   "id": "bfc4a635-129a-4209-8011-62f68b42d5b3",
   "metadata": {},
   "outputs": [
    {
     "name": "stdout",
     "output_type": "stream",
     "text": [
      "ython\n"
     ]
    }
   ],
   "source": [
    "print(s[-5:])"
   ]
  },
  {
   "cell_type": "markdown",
   "id": "d9ad86d4-bf1d-4360-bb2a-9371c67903b4",
   "metadata": {},
   "source": [
    "# Basic Build-in String Methods "
   ]
  },
  {
   "cell_type": "markdown",
   "id": "1572a8c8-1975-49ed-8a9e-135398700edb",
   "metadata": {},
   "source": [
    "## s = \"Namaste Python\" } <--- This definition has became an string object and in python objects has methods inside which can be used like object.methodName(parameter).         ex. s.upper(), s.lower(), etc"
   ]
  },
  {
   "cell_type": "code",
   "execution_count": 4,
   "id": "536a8d51-d624-43b0-8c52-d4cb6f39d8ca",
   "metadata": {},
   "outputs": [],
   "source": [
    "s= \"Namaste Python\""
   ]
  },
  {
   "cell_type": "code",
   "execution_count": 4,
   "id": "6a939c4d-c48c-41c4-b769-2dcd442b8126",
   "metadata": {},
   "outputs": [
    {
     "data": {
      "text/plain": [
       "'namaste python'"
      ]
     },
     "execution_count": 4,
     "metadata": {},
     "output_type": "execute_result"
    }
   ],
   "source": [
    "s.lower()"
   ]
  },
  {
   "cell_type": "code",
   "execution_count": 5,
   "id": "f871ac93-2717-4deb-ba68-3540875e7165",
   "metadata": {},
   "outputs": [
    {
     "data": {
      "text/plain": [
       "'NAMASTE PYTHON'"
      ]
     },
     "execution_count": 5,
     "metadata": {},
     "output_type": "execute_result"
    }
   ],
   "source": [
    "s.upper()"
   ]
  },
  {
   "cell_type": "code",
   "execution_count": 5,
   "id": "4e20b28d-e1dd-4bc1-81e6-f7765b593ca6",
   "metadata": {},
   "outputs": [
    {
     "name": "stdout",
     "output_type": "stream",
     "text": [
      "<class 'str'>\n"
     ]
    }
   ],
   "source": [
    "print(type(s))   #below output is string object"
   ]
  },
  {
   "cell_type": "markdown",
   "id": "345038b2-cdca-440f-989e-b463ac2c5578",
   "metadata": {},
   "source": [
    "# <span style=\"Blue\">Print Formatting</span>"
   ]
  },
  {
   "cell_type": "code",
   "execution_count": 8,
   "id": "f3b4ae5c-708e-460e-af9b-8a80cd5fa0d3",
   "metadata": {},
   "outputs": [],
   "source": [
    "name = \"Abhishek\"\n",
    "age = 25\n",
    "married = True\n"
   ]
  },
  {
   "cell_type": "code",
   "execution_count": 9,
   "id": "d03e4e7f-7f6f-42ef-8425-536ea8914b83",
   "metadata": {},
   "outputs": [
    {
     "name": "stdout",
     "output_type": "stream",
     "text": [
      "My name is Abhishek, my age 25, and its True that i am married\n",
      "My name is Abhishek, my age is 25, and it is True that is am married\n"
     ]
    }
   ],
   "source": [
    "print(\"My name is %s, my age %s, and its %s that i am married\" %(name, age, married))\n",
    "print(\"My name is {}, my age is {}, and it is {} that is am married\".format(name,age, married))"
   ]
  },
  {
   "cell_type": "code",
   "execution_count": 11,
   "id": "91993957-6c12-4eea-b9e1-f81db44106b2",
   "metadata": {},
   "outputs": [
    {
     "name": "stdout",
     "output_type": "stream",
     "text": [
      "My name is Abhishek, my age is25\n"
     ]
    }
   ],
   "source": [
    "print(f\"My name is {name}, my age is{age}\")"
   ]
  },
  {
   "cell_type": "code",
   "execution_count": null,
   "id": "e9acf431-91c7-44ce-aec2-e4066cc71e2a",
   "metadata": {},
   "outputs": [],
   "source": []
  }
 ],
 "metadata": {
  "kernelspec": {
   "display_name": "Python 3 (ipykernel)",
   "language": "python",
   "name": "python3"
  },
  "language_info": {
   "codemirror_mode": {
    "name": "ipython",
    "version": 3
   },
   "file_extension": ".py",
   "mimetype": "text/x-python",
   "name": "python",
   "nbconvert_exporter": "python",
   "pygments_lexer": "ipython3",
   "version": "3.13.3"
  }
 },
 "nbformat": 4,
 "nbformat_minor": 5
}
