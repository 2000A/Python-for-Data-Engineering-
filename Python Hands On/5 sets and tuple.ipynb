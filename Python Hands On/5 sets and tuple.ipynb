{
 "cells": [
  {
   "cell_type": "markdown",
   "id": "a9bb7c70-8755-4160-827d-058f340a0423",
   "metadata": {},
   "source": [
    "# Set and Tuple"
   ]
  },
  {
   "cell_type": "markdown",
   "id": "a3683922-d107-49c4-8037-97df546b67bb",
   "metadata": {},
   "source": [
    "# Sets \n",
    "#### sets are unordred collection of unique elements. Can be constructed by using set() function.\n",
    "#### unlike list where we have sequencial way to store elements allows duplicate elements.\n",
    "#### and for dictionary we are not allowed to have duplicate keys but dict allows duplicate values"
   ]
  },
  {
   "cell_type": "code",
   "execution_count": 1,
   "id": "8b177071-0356-4bf6-bc92-d9b24aa28a01",
   "metadata": {},
   "outputs": [],
   "source": [
    "li = [1,1,1,1,1,1,1,2,3,4,3,3,3,3]"
   ]
  },
  {
   "cell_type": "code",
   "execution_count": 2,
   "id": "b9b0501a-3908-467e-b465-6323ad0af67f",
   "metadata": {},
   "outputs": [
    {
     "data": {
      "text/plain": [
       "[1, 1, 1, 1, 1, 1, 1, 2, 3, 4, 3, 3, 3, 3]"
      ]
     },
     "execution_count": 2,
     "metadata": {},
     "output_type": "execute_result"
    }
   ],
   "source": [
    "li"
   ]
  },
  {
   "cell_type": "code",
   "execution_count": 3,
   "id": "6272e2d4-7670-4b0c-84b3-9f1dde138777",
   "metadata": {},
   "outputs": [],
   "source": [
    "li_sets = set(li)"
   ]
  },
  {
   "cell_type": "code",
   "execution_count": 14,
   "id": "fba11d0a-5673-40a4-9712-e6cf4afd10d1",
   "metadata": {},
   "outputs": [
    {
     "data": {
      "text/plain": [
       "{1, 2, 3, 4}"
      ]
     },
     "execution_count": 14,
     "metadata": {},
     "output_type": "execute_result"
    }
   ],
   "source": [
    "li_sets  #set stores unique elements only."
   ]
  },
  {
   "cell_type": "code",
   "execution_count": 5,
   "id": "dae58704-cf5a-4764-8e34-fa4aaef13d1f",
   "metadata": {},
   "outputs": [
    {
     "data": {
      "text/plain": [
       "{1}"
      ]
     },
     "execution_count": 5,
     "metadata": {},
     "output_type": "execute_result"
    }
   ],
   "source": [
    "x=set()\n",
    "\n",
    "x.add(1)\n",
    "\n",
    "x"
   ]
  },
  {
   "cell_type": "code",
   "execution_count": 6,
   "id": "4c7f8835-3a4b-42f2-a210-6a98514adc91",
   "metadata": {},
   "outputs": [
    {
     "data": {
      "text/plain": [
       "set"
      ]
     },
     "execution_count": 6,
     "metadata": {},
     "output_type": "execute_result"
    }
   ],
   "source": [
    "type(x)"
   ]
  },
  {
   "cell_type": "code",
   "execution_count": 7,
   "id": "1adeb805-05a3-4828-83b3-b2f9da48775c",
   "metadata": {},
   "outputs": [],
   "source": [
    "x.add(2)"
   ]
  },
  {
   "cell_type": "code",
   "execution_count": 8,
   "id": "f0aa8e9b-4925-4ddb-ad18-6bbe74d1ea58",
   "metadata": {},
   "outputs": [],
   "source": [
    "x.add(2)\n",
    "x.add(3)"
   ]
  },
  {
   "cell_type": "code",
   "execution_count": 9,
   "id": "3825a52b-9e45-4960-b057-ec8cc06bfbc7",
   "metadata": {},
   "outputs": [
    {
     "data": {
      "text/plain": [
       "{1, 2, 3}"
      ]
     },
     "execution_count": 9,
     "metadata": {},
     "output_type": "execute_result"
    }
   ],
   "source": [
    "x"
   ]
  },
  {
   "cell_type": "code",
   "execution_count": 10,
   "id": "e65b197f-84ae-4a64-b9f2-71971b14dbc9",
   "metadata": {},
   "outputs": [
    {
     "data": {
      "text/plain": [
       "{1, 3}"
      ]
     },
     "execution_count": 10,
     "metadata": {},
     "output_type": "execute_result"
    }
   ],
   "source": [
    "x.remove(2)\n",
    "x"
   ]
  },
  {
   "cell_type": "markdown",
   "id": "c4ff0e0a-04dc-4e68-828b-3336f3d5343b",
   "metadata": {},
   "source": [
    "# Tuples\n",
    "#### Tuples are used to store multiple items in a single variable.\n",
    "#### Tuple is a collection which is ordered and unchangablel.\n",
    "#### Tubple are written with round brackests"
   ]
  },
  {
   "cell_type": "code",
   "execution_count": 16,
   "id": "53440f6e-4026-4b10-b80a-633c291bdfb6",
   "metadata": {},
   "outputs": [
    {
     "name": "stdout",
     "output_type": "stream",
     "text": [
      "<class 'tuple'>\n",
      "('apple', 'mango', 'cherry')\n"
     ]
    }
   ],
   "source": [
    "thistuple = (\"apple\",\"mango\",\"cherry\")\n",
    "print(type(thistuple))\n",
    "print(thistuple)"
   ]
  },
  {
   "cell_type": "code",
   "execution_count": 17,
   "id": "d9edef22-a937-4b2b-b41c-c5116658b255",
   "metadata": {},
   "outputs": [
    {
     "ename": "AttributeError",
     "evalue": "'tuple' object has no attribute 'remove'",
     "output_type": "error",
     "traceback": [
      "\u001b[31m---------------------------------------------------------------------------\u001b[39m",
      "\u001b[31mAttributeError\u001b[39m                            Traceback (most recent call last)",
      "\u001b[36mCell\u001b[39m\u001b[36m \u001b[39m\u001b[32mIn[17]\u001b[39m\u001b[32m, line 1\u001b[39m\n\u001b[32m----> \u001b[39m\u001b[32m1\u001b[39m \u001b[43mthistuple\u001b[49m\u001b[43m.\u001b[49m\u001b[43mremove\u001b[49m(\u001b[33m\"\u001b[39m\u001b[33mapple\u001b[39m\u001b[33m\"\u001b[39m)\n",
      "\u001b[31mAttributeError\u001b[39m: 'tuple' object has no attribute 'remove'"
     ]
    }
   ],
   "source": [
    "#AttributeError: 'tuple' object has no attribute 'remove'\n",
    "thistuple.remove(\"apple\")   "
   ]
  },
  {
   "cell_type": "code",
   "execution_count": 18,
   "id": "4fb6362f-c433-4737-b36d-cd2df1945f72",
   "metadata": {},
   "outputs": [
    {
     "data": {
      "text/plain": [
       "('apple', 'mango', 'cherry', 'Bannana', 'lelo')"
      ]
     },
     "execution_count": 18,
     "metadata": {},
     "output_type": "execute_result"
    }
   ],
   "source": [
    "# To add new items just over write \n",
    "thistuple = (\"apple\",\"mango\",\"cherry\",\"Bannana\",\"lelo\")\n",
    "thistuple"
   ]
  },
  {
   "cell_type": "code",
   "execution_count": 19,
   "id": "da2165d5-2867-423b-b4a2-e19c5e6a57a3",
   "metadata": {},
   "outputs": [],
   "source": [
    "thistuple = (\"apple\",\"bananba\",\"cherry\",\"Bannana\",\"lelo\")"
   ]
  },
  {
   "cell_type": "code",
   "execution_count": 20,
   "id": "ab34a30f-407e-4e6c-b2f2-f0d0f60b60f5",
   "metadata": {},
   "outputs": [
    {
     "data": {
      "text/plain": [
       "('apple', 'bananba', 'cherry', 'Bannana', 'lelo')"
      ]
     },
     "execution_count": 20,
     "metadata": {},
     "output_type": "execute_result"
    }
   ],
   "source": [
    "thistuple"
   ]
  },
  {
   "cell_type": "code",
   "execution_count": 21,
   "id": "285783e3-5679-4d15-bfb1-dfbd84ef0374",
   "metadata": {},
   "outputs": [],
   "source": [
    "#But over writing over tuple we can change it above is example"
   ]
  },
  {
   "cell_type": "code",
   "execution_count": 23,
   "id": "21b0c6d5-eba0-49c3-9b69-e912ab2c8ac6",
   "metadata": {},
   "outputs": [
    {
     "name": "stdout",
     "output_type": "stream",
     "text": [
      "Bannana\n"
     ]
    }
   ],
   "source": [
    "print(thistuple[3])"
   ]
  },
  {
   "cell_type": "code",
   "execution_count": null,
   "id": "28efb149-0a48-45ff-92eb-bf5be3147507",
   "metadata": {},
   "outputs": [],
   "source": []
  }
 ],
 "metadata": {
  "kernelspec": {
   "display_name": "Python 3 (ipykernel)",
   "language": "python",
   "name": "python3"
  },
  "language_info": {
   "codemirror_mode": {
    "name": "ipython",
    "version": 3
   },
   "file_extension": ".py",
   "mimetype": "text/x-python",
   "name": "python",
   "nbconvert_exporter": "python",
   "pygments_lexer": "ipython3",
   "version": "3.13.3"
  }
 },
 "nbformat": 4,
 "nbformat_minor": 5
}
