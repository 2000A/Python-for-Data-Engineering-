{
 "cells": [
  {
   "cell_type": "markdown",
   "id": "83c43439-578b-4bc5-9339-830519a31b94",
   "metadata": {},
   "source": [
    "# Object Oriented Programming "
   ]
  },
  {
   "cell_type": "markdown",
   "id": "6b27f7a6-ee4f-428e-9be5-df5330db391e",
   "metadata": {},
   "source": [
    "###  Tasks\n",
    "#### •Objects\n",
    "#### •Using the class keyword\n",
    "#### •Creating class attributes\n",
    "#### •Creating methods in a class\n",
    "#### •Learning about Special Methods for classes"
   ]
  },
  {
   "cell_type": "markdown",
   "id": "d0bf5578-5c82-4e81-899b-bb2afe9078dc",
   "metadata": {},
   "source": [
    "## ➱Objects\n",
    "###   In python, everything is an object."
   ]
  },
  {
   "cell_type": "code",
   "execution_count": 1,
   "id": "e5fb7257-3091-4b71-8636-d52ea27f78f3",
   "metadata": {},
   "outputs": [
    {
     "name": "stdout",
     "output_type": "stream",
     "text": [
      "<class 'int'>\n",
      "<class 'list'>\n",
      "<class 'tuple'>\n",
      "<class 'dict'>\n"
     ]
    }
   ],
   "source": [
    "print(type(1))\n",
    "print(type([]))\n",
    "print(type(()))\n",
    "print(type({}))"
   ]
  },
  {
   "cell_type": "markdown",
   "id": "7bab3aa4-e910-4743-a1c7-88ff8a041807",
   "metadata": {},
   "source": [
    "### ➱ Class\n",
    "####   All of the above, in the previous cell are objects, so how can we create our own Object type? That is where the class keyword comes in. \n",
    "#### The user defined objects are created using the class keyword. The class is a blueprint that defines a nature of a future object. From classes we can construct instances. An instance is a specific object created from a particular class."
   ]
  },
  {
   "cell_type": "code",
   "execution_count": 2,
   "id": "01ff6d0b-532a-4e13-977b-e933937f03f3",
   "metadata": {},
   "outputs": [
    {
     "name": "stdout",
     "output_type": "stream",
     "text": [
      "<class '__main__.Sample'>\n"
     ]
    }
   ],
   "source": [
    "# Creates a new object type called Sample\n",
    "class Sample():\n",
    "    pass\n",
    "\n",
    "# Instance of Sample or object of Sample class\n",
    "x = Sample()\n",
    "\n",
    "print(type(x))"
   ]
  },
  {
   "cell_type": "markdown",
   "id": "c631cde3-c319-4981-b6e6-835426605a68",
   "metadata": {},
   "source": [
    "## ➾ Attributes\n",
    "###  attributes are like variables\n",
    "\n",
    "##   ☎️ self keyword : is like telephone connection so objects can connect to class.\n",
    "##    __init__ : is a constructor\n",
    "##    a decorator in python which gives certain functionality to functions\n"
   ]
  },
  {
   "cell_type": "code",
   "execution_count": 1,
   "id": "5b6e5304-1ea5-4470-b428-be07779647c7",
   "metadata": {},
   "outputs": [],
   "source": [
    "class Dog(object):\n",
    "    def __init__(self, breed):\n",
    "        self.breed = breed"
   ]
  },
  {
   "cell_type": "code",
   "execution_count": 2,
   "id": "ee173f61-ab16-4ca3-bbf7-b1d37cd590be",
   "metadata": {},
   "outputs": [],
   "source": [
    "sam = Dog(breed = \"Labrador\")"
   ]
  },
  {
   "cell_type": "code",
   "execution_count": 3,
   "id": "05cff8c4-e8f7-4b07-a535-7077aa3bb001",
   "metadata": {},
   "outputs": [
    {
     "data": {
      "text/plain": [
       "'Labrador'"
      ]
     },
     "execution_count": 3,
     "metadata": {},
     "output_type": "execute_result"
    }
   ],
   "source": [
    "sam.breed"
   ]
  },
  {
   "cell_type": "markdown",
   "id": "6020f3ba-6a99-4fde-9928-7ed74bca2ae9",
   "metadata": {},
   "source": [
    "## 😁 Methods\n",
    "##  methods are function inside the body of class. Used to perfom operations with the attricutes of our objects."
   ]
  },
  {
   "cell_type": "code",
   "execution_count": 2,
   "id": "552996bd-accd-4495-bb58-d33aa24e34fb",
   "metadata": {},
   "outputs": [
    {
     "name": "stdout",
     "output_type": "stream",
     "text": [
      "5\n"
     ]
    },
    {
     "data": {
      "text/plain": [
       "78.5"
      ]
     },
     "execution_count": 2,
     "metadata": {},
     "output_type": "execute_result"
    }
   ],
   "source": [
    "class Circle(object):\n",
    "    pi = 3.14\n",
    "\n",
    "    def __init__(self, radius=1):\n",
    "        self.radius = radius\n",
    "        \n",
    "    def area(self):\n",
    "        return self.radius * self.radius * Circle.pi\n",
    "\n",
    "    def setRadius(self,radius):\n",
    "        self.radius = radius\n",
    "\n",
    "    def getRadius(self):\n",
    "        return self.radius\n",
    "\n",
    "c = Circle(5)\n",
    "print(c.radius)\n",
    "c.area()\n",
    "    "
   ]
  },
  {
   "cell_type": "code",
   "execution_count": 3,
   "id": "d6f59bc9-c08f-404a-9fc9-c10fbbea595b",
   "metadata": {},
   "outputs": [
    {
     "name": "stdout",
     "output_type": "stream",
     "text": [
      "Radius is:  10\n",
      "Area is:  314.0\n"
     ]
    }
   ],
   "source": [
    "c.setRadius(10)\n",
    "print('Radius is: ',c.getRadius())\n",
    "print('Area is: ',c.area())"
   ]
  },
  {
   "cell_type": "code",
   "execution_count": null,
   "id": "37185249-cabd-4048-b4b4-48843fd90928",
   "metadata": {},
   "outputs": [],
   "source": []
  }
 ],
 "metadata": {
  "kernelspec": {
   "display_name": "Python 3 (ipykernel)",
   "language": "python",
   "name": "python3"
  },
  "language_info": {
   "codemirror_mode": {
    "name": "ipython",
    "version": 3
   },
   "file_extension": ".py",
   "mimetype": "text/x-python",
   "name": "python",
   "nbconvert_exporter": "python",
   "pygments_lexer": "ipython3",
   "version": "3.13.3"
  }
 },
 "nbformat": 4,
 "nbformat_minor": 5
}
