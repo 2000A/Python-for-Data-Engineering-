{
 "cells": [
  {
   "cell_type": "markdown",
   "id": "7a5f09e2-ade9-4f08-977f-f7db2f882f61",
   "metadata": {},
   "source": [
    "# Modular Programming in Python"
   ]
  },
  {
   "cell_type": "raw",
   "id": "dc661c1b-03c2-470c-b9ff-1ef98d20713e",
   "metadata": {},
   "source": [
    "Like all programming languages, Python provide various constructs to enable code reuse\n",
    "\n",
    "Python provides functions/methods, classes and modules for reuse"
   ]
  },
  {
   "cell_type": "code",
   "execution_count": 1,
   "id": "70d4f19d-8148-4b88-bea1-1c2a3234f9f7",
   "metadata": {},
   "outputs": [],
   "source": [
    "def name_of_function(arg1,arg2):\n",
    "    '''\n",
    "    This is whre the function's Document String (doc-string ) goes\n",
    "    '''\n",
    "    # Do stuff here\n",
    "    # return desired result"
   ]
  },
  {
   "cell_type": "code",
   "execution_count": 2,
   "id": "aca4700d-bc09-4fca-89ea-b69b6f932ebb",
   "metadata": {},
   "outputs": [
    {
     "ename": "TypeError",
     "evalue": "len() takes exactly one argument (0 given)",
     "output_type": "error",
     "traceback": [
      "\u001b[31m---------------------------------------------------------------------------\u001b[39m",
      "\u001b[31mTypeError\u001b[39m                                 Traceback (most recent call last)",
      "\u001b[36mCell\u001b[39m\u001b[36m \u001b[39m\u001b[32mIn[2]\u001b[39m\u001b[32m, line 1\u001b[39m\n\u001b[32m----> \u001b[39m\u001b[32m1\u001b[39m \u001b[38;5;28;43mlen\u001b[39;49m\u001b[43m(\u001b[49m\u001b[43m)\u001b[49m \u001b[38;5;66;03m#shift+tab to se doc string\u001b[39;00m\n",
      "\u001b[31mTypeError\u001b[39m: len() takes exactly one argument (0 given)"
     ]
    }
   ],
   "source": [
    "len() #shift+tab to se doc string"
   ]
  },
  {
   "cell_type": "code",
   "execution_count": 3,
   "id": "81c29a74-6c10-4b01-a9ff-6bef7896f750",
   "metadata": {},
   "outputs": [
    {
     "name": "stdout",
     "output_type": "stream",
     "text": [
      "Hello data engineer\n"
     ]
    }
   ],
   "source": [
    "def say_Hello():\n",
    "    print(\"Hello data engineer\")\n",
    "\n",
    "say_Hello()"
   ]
  },
  {
   "cell_type": "code",
   "execution_count": 4,
   "id": "8043c14e-df19-45db-a18b-2196a8cfd774",
   "metadata": {},
   "outputs": [
    {
     "name": "stdout",
     "output_type": "stream",
     "text": [
      "Abhishek Ram\n"
     ]
    }
   ],
   "source": [
    "def say_myname():\n",
    "    print(\"Abhishek Ram\")\n",
    "\n",
    "say_myname()\n"
   ]
  },
  {
   "cell_type": "markdown",
   "id": "f04056e1-29ad-4422-afd5-2071a278b703",
   "metadata": {},
   "source": [
    "### Default Arguments / Keyword Arguments"
   ]
  },
  {
   "cell_type": "raw",
   "id": "f9f67366-de81-4dac-9179-f1f743add964",
   "metadata": {},
   "source": [
    "Default arguments are those argumetns which can be changed but their value remains the same if not given."
   ]
  },
  {
   "cell_type": "code",
   "execution_count": 8,
   "id": "d8ed3a98-2615-45c9-abf4-fc6fead8f1c0",
   "metadata": {},
   "outputs": [
    {
     "name": "stdout",
     "output_type": "stream",
     "text": [
      "6\n"
     ]
    }
   ],
   "source": [
    "def double_the_number(num = 1):\n",
    "    return num * 2\n",
    "\n",
    "print(double_the_number(3))"
   ]
  },
  {
   "cell_type": "markdown",
   "id": "7b42ba5d-2521-4969-a62d-5b6ef5f9e07d",
   "metadata": {},
   "source": [
    "### Positional Arguments"
   ]
  },
  {
   "cell_type": "raw",
   "id": "43a96f3d-fbb4-4152-8e81-56f7be7c04e1",
   "metadata": {},
   "source": [
    "Positional arguments are those which are not fillowed by an equal sign(=) and default value. \n",
    "In this we need to provide an argument while calling the function, else we got an error."
   ]
  },
  {
   "cell_type": "code",
   "execution_count": 10,
   "id": "ec4bbd1c-b213-4f67-9e27-c1ccc01e2111",
   "metadata": {},
   "outputs": [
    {
     "name": "stdout",
     "output_type": "stream",
     "text": [
      "4\n"
     ]
    }
   ],
   "source": [
    "def double_number(num):\n",
    "    return num*2\n",
    "\n",
    "print(double_number(2))"
   ]
  },
  {
   "cell_type": "code",
   "execution_count": 11,
   "id": "e0df250a-b509-49e3-b855-9aabee9c3c85",
   "metadata": {},
   "outputs": [
    {
     "ename": "TypeError",
     "evalue": "double_number() takes 1 positional argument but 4 were given",
     "output_type": "error",
     "traceback": [
      "\u001b[31m---------------------------------------------------------------------------\u001b[39m",
      "\u001b[31mTypeError\u001b[39m                                 Traceback (most recent call last)",
      "\u001b[36mCell\u001b[39m\u001b[36m \u001b[39m\u001b[32mIn[11]\u001b[39m\u001b[32m, line 1\u001b[39m\n\u001b[32m----> \u001b[39m\u001b[32m1\u001b[39m \u001b[43mdouble_number\u001b[49m\u001b[43m(\u001b[49m\u001b[32;43m2\u001b[39;49m\u001b[43m,\u001b[49m\u001b[32;43m3\u001b[39;49m\u001b[43m,\u001b[49m\u001b[32;43m4\u001b[39;49m\u001b[43m,\u001b[49m\u001b[32;43m5\u001b[39;49m\u001b[43m)\u001b[49m\n",
      "\u001b[31mTypeError\u001b[39m: double_number() takes 1 positional argument but 4 were given"
     ]
    }
   ],
   "source": [
    "double_number(2,3,4,5)"
   ]
  },
  {
   "cell_type": "code",
   "execution_count": 4,
   "id": "a0332857-2069-4bff-9c79-f3d8c2e20046",
   "metadata": {},
   "outputs": [],
   "source": [
    "##Lambda function\n",
    "###to write function in one line just like list comprehension"
   ]
  },
  {
   "cell_type": "code",
   "execution_count": 1,
   "id": "71ea7f5d-72b4-4158-ba55-da01a201a816",
   "metadata": {},
   "outputs": [],
   "source": [
    "multiply_lambda = lambda num: num**2"
   ]
  },
  {
   "cell_type": "code",
   "execution_count": 2,
   "id": "e6dc56cb-798b-496d-9b76-03433c1c7871",
   "metadata": {},
   "outputs": [
    {
     "data": {
      "text/plain": [
       "4"
      ]
     },
     "execution_count": 2,
     "metadata": {},
     "output_type": "execute_result"
    }
   ],
   "source": [
    "multiply_lambda(2)"
   ]
  },
  {
   "cell_type": "code",
   "execution_count": 5,
   "id": "9d236a8f-deae-448f-badf-176877c3fcf0",
   "metadata": {},
   "outputs": [
    {
     "data": {
      "text/plain": [
       "100"
      ]
     },
     "execution_count": 5,
     "metadata": {},
     "output_type": "execute_result"
    }
   ],
   "source": [
    "multiply_lambda(10)"
   ]
  },
  {
   "cell_type": "code",
   "execution_count": null,
   "id": "e770fd6d-eb6d-4ed7-bef9-44a132e65430",
   "metadata": {},
   "outputs": [],
   "source": []
  }
 ],
 "metadata": {
  "kernelspec": {
   "display_name": "Python 3 (ipykernel)",
   "language": "python",
   "name": "python3"
  },
  "language_info": {
   "codemirror_mode": {
    "name": "ipython",
    "version": 3
   },
   "file_extension": ".py",
   "mimetype": "text/x-python",
   "name": "python",
   "nbconvert_exporter": "python",
   "pygments_lexer": "ipython3",
   "version": "3.13.3"
  }
 },
 "nbformat": 4,
 "nbformat_minor": 5
}
