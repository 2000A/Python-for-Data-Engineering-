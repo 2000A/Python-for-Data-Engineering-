{
 "cells": [
  {
   "cell_type": "markdown",
   "id": "5cba2e4c-2c93-4b8f-a2ee-4891d3159eb3",
   "metadata": {},
   "source": [
    "# File I/O : Helps you read your files"
   ]
  },
  {
   "cell_type": "markdown",
   "id": "a8b3e673-014b-4249-a00d-5d1b98278d7c",
   "metadata": {},
   "source": [
    "### Create a file in the current directory"
   ]
  },
  {
   "cell_type": "code",
   "execution_count": 3,
   "id": "9ae70a79-4bcc-414e-82c1-76218ec2e225",
   "metadata": {},
   "outputs": [],
   "source": [
    "with open(\"myfile.txt\",'w') as f: # w is for write, a is for append\n",
    "    f.write(\"this is my file \\n\")\n",
    "    f.write(\"Second line \\n\")"
   ]
  },
  {
   "cell_type": "code",
   "execution_count": 4,
   "id": "1a4fbe29-00cd-4bc2-9fe3-e6c91b80c114",
   "metadata": {},
   "outputs": [],
   "source": [
    "with open(\"myfile.txt\",'a') as f:\n",
    "    f.write(\"lets check if this get appended or not\")"
   ]
  },
  {
   "cell_type": "markdown",
   "id": "b4d43522-7808-4bd4-bd21-5c3f27b5f296",
   "metadata": {},
   "source": [
    "### To read the file"
   ]
  },
  {
   "cell_type": "code",
   "execution_count": 6,
   "id": "06bb4e44-ef66-4195-8c9d-d9c451c9d6ff",
   "metadata": {},
   "outputs": [
    {
     "name": "stdout",
     "output_type": "stream",
     "text": [
      "this is my file \n",
      "\n",
      "Second line \n",
      "\n",
      "lets check if this get appended or not\n"
     ]
    }
   ],
   "source": [
    "with open(\"myfile.txt\",'r') as f:  # created object of file 'as f'\n",
    "    for line in f:\n",
    "        print(line)"
   ]
  },
  {
   "cell_type": "code",
   "execution_count": 7,
   "id": "6e3f946b-d04d-46d8-805e-2dc6948e2692",
   "metadata": {},
   "outputs": [],
   "source": [
    "f.close()"
   ]
  },
  {
   "cell_type": "code",
   "execution_count": null,
   "id": "afa6d33e-5440-4a15-97f6-8872c98aa0f2",
   "metadata": {},
   "outputs": [],
   "source": []
  }
 ],
 "metadata": {
  "kernelspec": {
   "display_name": "Python 3 (ipykernel)",
   "language": "python",
   "name": "python3"
  },
  "language_info": {
   "codemirror_mode": {
    "name": "ipython",
    "version": 3
   },
   "file_extension": ".py",
   "mimetype": "text/x-python",
   "name": "python",
   "nbconvert_exporter": "python",
   "pygments_lexer": "ipython3",
   "version": "3.13.3"
  }
 },
 "nbformat": 4,
 "nbformat_minor": 5
}
